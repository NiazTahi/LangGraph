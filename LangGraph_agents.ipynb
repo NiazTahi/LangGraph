{
 "cells": [
  {
   "cell_type": "code",
   "execution_count": 1,
   "id": "33dd65e9-4bb9-4c13-b324-5412a8722b58",
   "metadata": {},
   "outputs": [],
   "source": [
    "%%capture --no-stderr\n",
    "%pip install -U langgraph langsmith langchain_openai"
   ]
  },
  {
   "cell_type": "code",
   "execution_count": 2,
   "id": "60334288-1d7f-4ee5-b9e8-05e16865f7de",
   "metadata": {},
   "outputs": [
    {
     "name": "stdin",
     "output_type": "stream",
     "text": [
      "OPENAI_API_KEY:  ········\n"
     ]
    }
   ],
   "source": [
    "import getpass\n",
    "import os\n",
    "\n",
    "\n",
    "def _set_env(var: str):\n",
    "    if not os.environ.get(var):\n",
    "        os.environ[var] = getpass.getpass(f\"{var}: \")\n",
    "\n",
    "\n",
    "_set_env(\"OPENAI_API_KEY\")"
   ]
  },
  {
   "cell_type": "code",
   "execution_count": 3,
   "id": "4791f42a-8799-4c1d-9f9e-4db788e97221",
   "metadata": {},
   "outputs": [],
   "source": [
    "from typing import Annotated\n",
    "\n",
    "from typing_extensions import TypedDict\n",
    "\n",
    "from langgraph.graph import StateGraph, START, END\n",
    "from langgraph.graph.message import add_messages\n",
    "\n",
    "\n",
    "class State(TypedDict):\n",
    "    # Messages have the type \"list\". The `add_messages` function\n",
    "    # in the annotation defines how this state key should be updated\n",
    "    # (in this case, it appends messages to the list, rather than overwriting them)\n",
    "    messages: Annotated[list, add_messages]\n",
    "\n",
    "\n",
    "graph_builder = StateGraph(State)"
   ]
  },
  {
   "cell_type": "code",
   "execution_count": 4,
   "id": "bd87f57d-8b5c-4af3-9aa5-8726f700de1e",
   "metadata": {},
   "outputs": [
    {
     "data": {
      "text/plain": [
       "<langgraph.graph.state.StateGraph at 0x7f72f3662590>"
      ]
     },
     "execution_count": 4,
     "metadata": {},
     "output_type": "execute_result"
    }
   ],
   "source": [
    "from langchain_openai import ChatOpenAI\n",
    "\n",
    "llm = ChatOpenAI(model=\"gpt-3.5-turbo\")\n",
    "\n",
    "\n",
    "def chatbot(state: State):\n",
    "    return {\"messages\": [llm.invoke(state[\"messages\"])]}\n",
    "\n",
    "\n",
    "# The first argument is the unique node name\n",
    "# The second argument is the function or object that will be called whenever\n",
    "# the node is used.\n",
    "graph_builder.add_node(\"chatbot\", chatbot)"
   ]
  },
  {
   "cell_type": "code",
   "execution_count": 5,
   "id": "a40641b4-5fb9-45d4-bd44-341d4fdc13c5",
   "metadata": {},
   "outputs": [
    {
     "data": {
      "text/plain": [
       "<langgraph.graph.state.StateGraph at 0x7f72f3662590>"
      ]
     },
     "execution_count": 5,
     "metadata": {},
     "output_type": "execute_result"
    }
   ],
   "source": [
    "graph_builder.add_edge(START, \"chatbot\")\n",
    "graph_builder.add_edge(\"chatbot\", END)"
   ]
  },
  {
   "cell_type": "code",
   "execution_count": 6,
   "id": "bde6d499-3fed-43cc-9610-bf711a77c8ea",
   "metadata": {},
   "outputs": [],
   "source": [
    "graph = graph_builder.compile()"
   ]
  },
  {
   "cell_type": "code",
   "execution_count": 7,
   "id": "89aacde9-fc2d-4ac6-9c00-991b2791177a",
   "metadata": {},
   "outputs": [
    {
     "data": {
      "image/jpeg": "[encoded data removed]",
      "text/plain": [
       "<IPython.core.display.Image object>"
      ]
     },
     "metadata": {},
     "output_type": "display_data"
    }
   ],
   "source": [
    "from IPython.display import Image, display\n",
    "\n",
    "try:\n",
    "    display(Image(graph.get_graph().draw_mermaid_png()))\n",
    "except Exception:\n",
    "    # This requires some extra dependencies and is optional\n",
    "    pass"
   ]
  },
  {
   "cell_type": "code",
   "execution_count": 21,
   "id": "b1490ff4-9426-4eea-914d-482495dc8db3",
   "metadata": {},
   "outputs": [
    {
     "name": "stdin",
     "output_type": "stream",
     "text": [
      "User:  q\n"
     ]
    },
    {
     "name": "stdout",
     "output_type": "stream",
     "text": [
      "Goodbye!\n"
     ]
    }
   ],
   "source": [
    "def stream_graph_updates(user_input: str):\n",
    "    for event in graph.stream({\"messages\": [(\"user\", user_input)]}):\n",
    "        for value in event.values():\n",
    "            print(\"Assistant:\", value[\"messages\"][-1].content)\n",
    "\n",
    "\n",
    "while True:\n",
    "    try:\n",
    "        user_input = input(\"User: \")\n",
    "        if user_input.lower() in [\"quit\", \"exit\", \"q\"]:\n",
    "            print(\"Goodbye!\")\n",
    "            break\n",
    "\n",
    "        stream_graph_updates(user_input)\n",
    "    except:\n",
    "        # fallback if input() is not available\n",
    "        user_input = \"What do you know about LangGraph?\"\n",
    "        print(\"User: \" + user_input)\n",
    "        stream_graph_updates(user_input)\n",
    "        break"
   ]
  },
  {
   "cell_type": "code",
   "execution_count": 9,
   "id": "3d2b40cf-6b29-4d31-aec7-85abe9409d8e",
   "metadata": {},
   "outputs": [],
   "source": [
    "%%capture --no-stderr\n",
    "%pip install -U tavily-python langchain_community"
   ]
  },
  {
   "cell_type": "code",
   "execution_count": 10,
   "id": "2822101d-1071-4c54-900a-3da8b3cd3de8",
   "metadata": {},
   "outputs": [
    {
     "name": "stdin",
     "output_type": "stream",
     "text": [
      "TAVILY_API_KEY:  ········\n"
     ]
    }
   ],
   "source": [
    "_set_env(\"TAVILY_API_KEY\")"
   ]
  },
  {
   "cell_type": "code",
   "execution_count": 22,
   "id": "894c6a99-225f-46a4-b075-cb8ef452d2fa",
   "metadata": {},
   "outputs": [
    {
     "data": {
      "text/plain": [
       "[{'url': 'https://www.datacamp.com/tutorial/langgraph-tutorial',\n",
       "  'content': \"In LangGraph, each node represents an LLM agent, and the edges are the communication channels between these agents. This structure allows for clear and manageable workflows, where each agent performs specific tasks and passes information to other agents as needed. State management. One of LangGraph's standout features is its automatic state\"},\n",
       " {'url': 'https://medium.com/@kbdhunga/beginners-guide-to-langgraph-understanding-state-nodes-and-edges-part-1-897e6114fa48',\n",
       "  'content': 'Each node in a LangGraph graph has the ability to access, read, and write to the state. When a node modifies the state, it effectively broadcasts this information to all other nodes within the graph .'}]"
      ]
     },
     "execution_count": 22,
     "metadata": {},
     "output_type": "execute_result"
    }
   ],
   "source": [
    "from langchain_community.tools.tavily_search import TavilySearchResults\n",
    "\n",
    "tool = TavilySearchResults(max_results=2)\n",
    "tools = [tool]\n",
    "tool.invoke(\"What's a 'node' in LangGraph?\")"
   ]
  },
  {
   "cell_type": "code",
   "execution_count": 23,
   "id": "ffd171a0-3151-4f06-a911-57a9dfb45e23",
   "metadata": {},
   "outputs": [
    {
     "data": {
      "text/plain": [
       "<langgraph.graph.state.StateGraph at 0x7f72f07d7400>"
      ]
     },
     "execution_count": 23,
     "metadata": {},
     "output_type": "execute_result"
    }
   ],
   "source": [
    "from typing import Annotated\n",
    "\n",
    "from langchain_openai import ChatOpenAI\n",
    "from typing_extensions import TypedDict\n",
    "\n",
    "from langgraph.graph import StateGraph, START, END\n",
    "from langgraph.graph.message import add_messages\n",
    "\n",
    "\n",
    "class State(TypedDict):\n",
    "    messages: Annotated[list, add_messages]\n",
    "\n",
    "\n",
    "graph_builder = StateGraph(State)\n",
    "\n",
    "\n",
    "llm = ChatOpenAI(model=\"gpt-4\")\n",
    "# Modification: tell the LLM which tools it can call\n",
    "llm_with_tools = llm.bind_tools(tools)\n",
    "\n",
    "\n",
    "def chatbot(state: State):\n",
    "    return {\"messages\": [llm_with_tools.invoke(state[\"messages\"])]}\n",
    "\n",
    "\n",
    "graph_builder.add_node(\"chatbot\", chatbot)"
   ]
  },
  {
   "cell_type": "code",
   "execution_count": 24,
   "id": "f218af87-922e-45d5-a407-2735d5661900",
   "metadata": {},
   "outputs": [
    {
     "data": {
      "text/plain": [
       "<langgraph.graph.state.StateGraph at 0x7f72f07d7400>"
      ]
     },
     "execution_count": 24,
     "metadata": {},
     "output_type": "execute_result"
    }
   ],
   "source": [
    "import json\n",
    "\n",
    "from langchain_core.messages import ToolMessage\n",
    "\n",
    "\n",
    "class BasicToolNode:\n",
    "    \"\"\"A node that runs the tools requested in the last AIMessage.\"\"\"\n",
    "\n",
    "    def __init__(self, tools: list) -> None:\n",
    "        self.tools_by_name = {tool.name: tool for tool in tools}\n",
    "\n",
    "    def __call__(self, inputs: dict):\n",
    "        if messages := inputs.get(\"messages\", []):\n",
    "            message = messages[-1]\n",
    "        else:\n",
    "            raise ValueError(\"No message found in input\")\n",
    "        outputs = []\n",
    "        for tool_call in message.tool_calls:\n",
    "            print(tool_call)\n",
    "            tool_result = self.tools_by_name[tool_call[\"name\"]].invoke(\n",
    "                tool_call[\"args\"]\n",
    "            )\n",
    "            print(tool_result)\n",
    "            outputs.append(\n",
    "                ToolMessage(\n",
    "                    content=json.dumps(tool_result),\n",
    "                    name=tool_call[\"name\"],\n",
    "                    tool_call_id=tool_call[\"id\"],\n",
    "                )\n",
    "            )\n",
    "        return {\"messages\": outputs}\n",
    "\n",
    "\n",
    "tool_node = BasicToolNode(tools=[tool])\n",
    "graph_builder.add_node(\"tools\", tool_node)"
   ]
  },
  {
   "cell_type": "code",
   "execution_count": 25,
   "id": "f45b7421-24ec-4965-a6e8-25db04691a70",
   "metadata": {},
   "outputs": [],
   "source": [
    "from typing import Literal\n",
    "\n",
    "\n",
    "def route_tools(\n",
    "    state: State,\n",
    "):\n",
    "    \"\"\"\n",
    "    Use in the conditional_edge to route to the ToolNode if the last message\n",
    "    has tool calls. Otherwise, route to the end.\n",
    "    \"\"\"\n",
    "    if isinstance(state, list):\n",
    "        ai_message = state[-1]\n",
    "    elif messages := state.get(\"messages\", []):\n",
    "        ai_message = messages[-1]\n",
    "    else:\n",
    "        raise ValueError(f\"No messages found in input state to tool_edge: {state}\")\n",
    "    if hasattr(ai_message, \"tool_calls\") and len(ai_message.tool_calls) > 0:\n",
    "        return \"tools\"\n",
    "    return END\n",
    "\n",
    "\n",
    "# The `tools_condition` function returns \"tools\" if the chatbot asks to use a tool, and \"END\" if\n",
    "# it is fine directly responding. This conditional routing defines the main agent loop.\n",
    "graph_builder.add_conditional_edges(\n",
    "    \"chatbot\",\n",
    "    route_tools,\n",
    "    # The following dictionary lets you tell the graph to interpret the condition's outputs as a specific node\n",
    "    # It defaults to the identity function, but if you\n",
    "    # want to use a node named something else apart from \"tools\",\n",
    "    # You can update the value of the dictionary to something else\n",
    "    # e.g., \"tools\": \"my_tools\"\n",
    "    {\"tools\": \"tools\", END: END},\n",
    ")\n",
    "# Any time a tool is called, we return to the chatbot to decide the next step\n",
    "graph_builder.add_edge(\"tools\", \"chatbot\")\n",
    "graph_builder.add_edge(START, \"chatbot\")\n",
    "graph = graph_builder.compile()"
   ]
  },
  {
   "cell_type": "code",
   "execution_count": 26,
   "id": "5191b41a-464e-4c34-8cd3-375d9556d626",
   "metadata": {},
   "outputs": [
    {
     "data": {
      "image/jpeg": "[encoded data removed]",
      "text/plain": [
       "<IPython.core.display.Image object>"
      ]
     },
     "metadata": {},
     "output_type": "display_data"
    }
   ],
   "source": [
    "from IPython.display import Image, display\n",
    "\n",
    "try:\n",
    "    display(Image(graph.get_graph().draw_mermaid_png()))\n",
    "except Exception:\n",
    "    # This requires some extra dependencies and is optional\n",
    "    pass"
   ]
  },
  {
   "cell_type": "code",
   "execution_count": 27,
   "id": "b499db30-cd0b-439b-a64e-8b49770c3201",
   "metadata": {},
   "outputs": [
    {
     "name": "stdin",
     "output_type": "stream",
     "text": [
      "User:  Hi\n"
     ]
    },
    {
     "name": "stdout",
     "output_type": "stream",
     "text": [
      "Assistant: Hello! How can I assist you today?\n"
     ]
    },
    {
     "name": "stdin",
     "output_type": "stream",
     "text": [
      "User:  What do you know about LangChain\n"
     ]
    },
    {
     "name": "stdout",
     "output_type": "stream",
     "text": [
      "Assistant: As an AI, I don't have the capability to know or learn information. However, I can retrieve data from the resources I'm programmed with. As of now, I don't have any specific details about LangChain in my database. However, I can help you find more information about it. Would you like me to search the internet for LangChain?\n"
     ]
    },
    {
     "name": "stdin",
     "output_type": "stream",
     "text": [
      "User:  yes\n"
     ]
    },
    {
     "name": "stdout",
     "output_type": "stream",
     "text": [
      "Assistant: Hello! How can I assist you today?\n"
     ]
    },
    {
     "name": "stdin",
     "output_type": "stream",
     "text": [
      "User:  What do you know about LangChain. Use tool\n"
     ]
    },
    {
     "name": "stdout",
     "output_type": "stream",
     "text": [
      "Assistant: \n",
      "{'name': 'tavily_search_results_json', 'args': {'query': 'LangChain'}, 'id': 'call_SCZKkWhG4ZQDT2gCzrDU07MB', 'type': 'tool_call'}\n",
      "[{'url': 'https://www.analyticsvidhya.com/blog/2024/10/setting-up-custom-tools-and-agents-in-langchain/', 'content': 'This guide dives into building a custom conversational agent with LangChain, a powerful framework that integrates Large Language Models (LLMs) with a range of tools and APIs. Designed for versatility, the agent can tackle tasks like generating random numbers, sharing philosophical insights, and dynamically fetching and extracting content from webpages. We have successfully developed a versatile conversational agent using LangChain that can seamlessly integrate a variety of tools and APIs. By harnessing the capabilities of Large Language Models alongside custom functionalities—such as random number generation, philosophical insights, and dynamic web scraping—this agent demonstrates its ability to address a wide range of user queries. The conversational agent can answer general knowledge questions, generate random numbers, provide insights about the meaning of life, and dynamically fetch and extract content from specified webpages.'}, {'url': 'https://www.deepchecks.com/how-to-build-rag-application-langchain/', 'content': 'How to build a RAG application with Langchain This article explores building naive and advanced RAG applications using LangChain and evaluates these systems to help you harness the full potential of this powerful technology. How to build a RAG application with Langchain The first crucial step in building a RAG application is to prepare and structure the data that will be used for retrieval and generation. With the documents loaded, we need to break the documents into small chunks so the RAG system can process and retrieve relevant information more efficiently. This function will handle the entire process, from loading and processing the data to retrieving relevant information and generating a response using your RAG system. How to build a RAG application with Langchain'}]\n",
      "Assistant: [{\"url\": \"https://www.analyticsvidhya.com/blog/2024/10/setting-up-custom-tools-and-agents-in-langchain/\", \"content\": \"This guide dives into building a custom conversational agent with LangChain, a powerful framework that integrates Large Language Models (LLMs) with a range of tools and APIs. Designed for versatility, the agent can tackle tasks like generating random numbers, sharing philosophical insights, and dynamically fetching and extracting content from webpages. We have successfully developed a versatile conversational agent using LangChain that can seamlessly integrate a variety of tools and APIs. By harnessing the capabilities of Large Language Models alongside custom functionalities\\u2014such as random number generation, philosophical insights, and dynamic web scraping\\u2014this agent demonstrates its ability to address a wide range of user queries. The conversational agent can answer general knowledge questions, generate random numbers, provide insights about the meaning of life, and dynamically fetch and extract content from specified webpages.\"}, {\"url\": \"https://www.deepchecks.com/how-to-build-rag-application-langchain/\", \"content\": \"How to build a RAG application with Langchain This article explores building naive and advanced RAG applications using LangChain and evaluates these systems to help you harness the full potential of this powerful technology. How to build a RAG application with Langchain The first crucial step in building a RAG application is to prepare and structure the data that will be used for retrieval and generation. With the documents loaded, we need to break the documents into small chunks so the RAG system can process and retrieve relevant information more efficiently. This function will handle the entire process, from loading and processing the data to retrieving relevant information and generating a response using your RAG system. How to build a RAG application with Langchain\"}]\n",
      "Assistant: LangChain is a powerful framework that allows for the integration of Large Language Models (LLMs) with a variety of tools and APIs. It is designed for versatility and is capable of tasks such as generating random numbers, sharing philosophical insights, and dynamically fetching and extracting content from webpages. The use of LangChain allows for the development of a versatile conversational agent that can seamlessly integrate a variety of tools and APIs. It can address a wide range of user queries and has the ability to answer general knowledge questions, generate random numbers, provide insights about the meaning of life, and dynamically fetch and extract content from specified webpages ([source](https://www.analyticsvidhya.com/blog/2024/10/setting-up-custom-tools-and-agents-in-langchain/)).\n",
      "\n",
      "In addition to this, LangChain can be used to build RAG (Retrieval-Augmented Generation) applications. These applications involve preparing and structuring data for retrieval and generation, breaking the documents into small chunks so the RAG system can process and retrieve relevant information more efficiently. This process includes loading and processing the data to retrieving relevant information and generating a response using the RAG system ([source](https://www.deepchecks.com/how-to-build-rag-application-langchain/)).\n"
     ]
    },
    {
     "name": "stdin",
     "output_type": "stream",
     "text": [
      "User:  1\n"
     ]
    },
    {
     "name": "stdout",
     "output_type": "stream",
     "text": [
      "Assistant: Hello! How can I assist you today?\n"
     ]
    },
    {
     "name": "stdin",
     "output_type": "stream",
     "text": [
      "User:  q\n"
     ]
    },
    {
     "name": "stdout",
     "output_type": "stream",
     "text": [
      "Goodbye!\n"
     ]
    }
   ],
   "source": [
    "while True:\n",
    "    try:\n",
    "        user_input = input(\"User: \")\n",
    "        if user_input.lower() in [\"quit\", \"exit\", \"q\"]:\n",
    "            print(\"Goodbye!\")\n",
    "            break\n",
    "\n",
    "        stream_graph_updates(user_input)\n",
    "    except:\n",
    "        # fallback if input() is not available\n",
    "        user_input = \"What do you know about LangGraph?\"\n",
    "        print(\"User: \" + user_input)\n",
    "        stream_graph_updates(user_input)\n",
    "        break"
   ]
  },
  {
   "cell_type": "code",
   "execution_count": 28,
   "id": "8ae96acc-81f1-489c-a387-aebc1699be7b",
   "metadata": {},
   "outputs": [],
   "source": [
    "from langgraph.checkpoint.memory import MemorySaver\n",
    "\n",
    "memory = MemorySaver()"
   ]
  },
  {
   "cell_type": "code",
   "execution_count": 29,
   "id": "623ec18d-40ae-4e65-9435-192b6dcb23bc",
   "metadata": {},
   "outputs": [
    {
     "data": {
      "text/plain": [
       "<langgraph.graph.state.StateGraph at 0x7f72f07d5690>"
      ]
     },
     "execution_count": 29,
     "metadata": {},
     "output_type": "execute_result"
    }
   ],
   "source": [
    "from typing import Annotated\n",
    "\n",
    "from langchain_openai import ChatOpenAI\n",
    "from langchain_community.tools.tavily_search import TavilySearchResults\n",
    "from langchain_core.messages import BaseMessage\n",
    "from typing_extensions import TypedDict\n",
    "\n",
    "from langgraph.graph import StateGraph, START, END\n",
    "from langgraph.graph.message import add_messages\n",
    "from langgraph.prebuilt import ToolNode, tools_condition\n",
    "\n",
    "\n",
    "class State(TypedDict):\n",
    "    messages: Annotated[list, add_messages]\n",
    "\n",
    "graph_builder = StateGraph(State)\n",
    "\n",
    "\n",
    "tool = TavilySearchResults(max_results=2)\n",
    "tools = [tool]\n",
    "llm = ChatOpenAI(model=\"gpt-4\")\n",
    "llm_with_tools = llm.bind_tools(tools)\n",
    "\n",
    "\n",
    "def chatbot(state: State):\n",
    "    return {\"messages\": [llm_with_tools.invoke(state[\"messages\"])]}\n",
    "\n",
    "\n",
    "graph_builder.add_node(\"chatbot\", chatbot)\n",
    "\n",
    "tool_node = ToolNode(tools=[tool])\n",
    "graph_builder.add_node(\"tools\", tool_node)\n",
    "\n",
    "graph_builder.add_conditional_edges(\n",
    "    \"chatbot\",\n",
    "    tools_condition,\n",
    ")\n",
    "# Any time a tool is called, we return to the chatbot to decide the next step\n",
    "graph_builder.add_edge(\"tools\", \"chatbot\")\n",
    "graph_builder.add_edge(START, \"chatbot\")"
   ]
  },
  {
   "cell_type": "code",
   "execution_count": 30,
   "id": "6eb9e8cf-39bd-4a2d-8417-725aafad3220",
   "metadata": {},
   "outputs": [],
   "source": [
    "graph = graph_builder.compile(checkpointer=memory)"
   ]
  },
  {
   "cell_type": "code",
   "execution_count": 31,
   "id": "634747be-1200-4527-9d27-973719ca8e3d",
   "metadata": {},
   "outputs": [],
   "source": [
    "config = {\"configurable\": {\"thread_id\": \"1\"}}"
   ]
  },
  {
   "cell_type": "code",
   "execution_count": 32,
   "id": "bc1216d5-1c26-4116-9979-22be48140df2",
   "metadata": {},
   "outputs": [
    {
     "name": "stdout",
     "output_type": "stream",
     "text": [
      "================================\u001b[1m Human Message \u001b[0m=================================\n",
      "\n",
      "Hi there! My name is Will.\n",
      "==================================\u001b[1m Ai Message \u001b[0m==================================\n",
      "\n",
      "Hello Will! How can I assist you today?\n"
     ]
    }
   ],
   "source": [
    "user_input = \"Hi there! My name is Will.\"\n",
    "\n",
    "# The config is the **second positional argument** to stream() or invoke()!\n",
    "events = graph.stream(\n",
    "    {\"messages\": [(\"user\", user_input)]}, config, stream_mode=\"values\"\n",
    ")\n",
    "for event in events:\n",
    "    event[\"messages\"][-1].pretty_print()"
   ]
  },
  {
   "cell_type": "code",
   "execution_count": 34,
   "id": "82ee7e16-14ec-402f-9f30-ad37c49ddc68",
   "metadata": {},
   "outputs": [
    {
     "name": "stdout",
     "output_type": "stream",
     "text": [
      "================================\u001b[1m Human Message \u001b[0m=================================\n",
      "\n",
      "What is my name?\n",
      "==================================\u001b[1m Ai Message \u001b[0m==================================\n",
      "\n",
      "Your name is Will. How can I assist you further?\n"
     ]
    }
   ],
   "source": [
    "user_input = \"What is my name?\"\n",
    "\n",
    "# The config is the **second positional argument** to stream() or invoke()!\n",
    "events = graph.stream(\n",
    "    {\"messages\": [(\"user\", user_input)]}, config, stream_mode=\"values\"\n",
    ")\n",
    "for event in events:\n",
    "    event[\"messages\"][-1].pretty_print()"
   ]
  },
  {
   "cell_type": "code",
   "execution_count": 35,
   "id": "95e53b86-250f-46c9-8c08-962aacda2f51",
   "metadata": {},
   "outputs": [
    {
     "name": "stdout",
     "output_type": "stream",
     "text": [
      "================================\u001b[1m Human Message \u001b[0m=================================\n",
      "\n",
      "What is my name?\n",
      "==================================\u001b[1m Ai Message \u001b[0m==================================\n",
      "\n",
      "As an AI, I don't have access to personal data about individuals unless it has been shared with me in the course of our conversation. I am designed to respect user privacy and confidentiality.\n"
     ]
    }
   ],
   "source": [
    "# The only difference is we change the `thread_id` here to \"2\" instead of \"1\"\n",
    "events = graph.stream(\n",
    "    {\"messages\": [(\"user\", user_input)]},\n",
    "    {\"configurable\": {\"thread_id\": \"2\"}},\n",
    "    stream_mode=\"values\",\n",
    ")\n",
    "for event in events:\n",
    "    event[\"messages\"][-1].pretty_print()"
   ]
  },
  {
   "cell_type": "code",
   "execution_count": 38,
   "id": "5834ab0a-2f00-4ed2-b487-ff6469b368f5",
   "metadata": {},
   "outputs": [
    {
     "data": {
      "text/plain": [
       "StateSnapshot(values={'messages': [HumanMessage(content='Hi there! My name is Will.', additional_kwargs={}, response_metadata={}, id='7c28fb61-c240-48a6-a499-2ac2b02d34d0'), AIMessage(content='Hello Will! How can I assist you today?', additional_kwargs={'refusal': None}, response_metadata={'token_usage': {'completion_tokens': 11, 'prompt_tokens': 89, 'total_tokens': 100, 'completion_tokens_details': {'accepted_prediction_tokens': 0, 'audio_tokens': 0, 'reasoning_tokens': 0, 'rejected_prediction_tokens': 0}, 'prompt_tokens_details': {'audio_tokens': 0, 'cached_tokens': 0}}, 'model_name': 'gpt-4-0613', 'system_fingerprint': None, 'finish_reason': 'stop', 'logprobs': None}, id='run-1a34e01d-1164-49f5-ac8b-8df5204721a7-0', usage_metadata={'input_tokens': 89, 'output_tokens': 11, 'total_tokens': 100, 'input_token_details': {'audio': 0, 'cache_read': 0}, 'output_token_details': {'audio': 0, 'reasoning': 0}}), HumanMessage(content='Remember my name?', additional_kwargs={}, response_metadata={}, id='746f5650-6f3f-450f-9c34-fd1350e6ab79'), AIMessage(content=\"Of course, Will. I'll remember your name. How can I assist you today?\", additional_kwargs={'refusal': None}, response_metadata={'token_usage': {'completion_tokens': 19, 'prompt_tokens': 111, 'total_tokens': 130, 'completion_tokens_details': {'accepted_prediction_tokens': 0, 'audio_tokens': 0, 'reasoning_tokens': 0, 'rejected_prediction_tokens': 0}, 'prompt_tokens_details': {'audio_tokens': 0, 'cached_tokens': 0}}, 'model_name': 'gpt-4-0613', 'system_fingerprint': None, 'finish_reason': 'stop', 'logprobs': None}, id='run-05182103-8f89-42e3-9e5b-2f741f547c91-0', usage_metadata={'input_tokens': 111, 'output_tokens': 19, 'total_tokens': 130, 'input_token_details': {'audio': 0, 'cache_read': 0}, 'output_token_details': {'audio': 0, 'reasoning': 0}}), HumanMessage(content='What is my name?', additional_kwargs={}, response_metadata={}, id='dbc474b6-b629-44a6-a593-8180a3232420'), AIMessage(content='Your name is Will. How can I assist you further?', additional_kwargs={'refusal': None}, response_metadata={'token_usage': {'completion_tokens': 13, 'prompt_tokens': 142, 'total_tokens': 155, 'completion_tokens_details': {'accepted_prediction_tokens': 0, 'audio_tokens': 0, 'reasoning_tokens': 0, 'rejected_prediction_tokens': 0}, 'prompt_tokens_details': {'audio_tokens': 0, 'cached_tokens': 0}}, 'model_name': 'gpt-4-0613', 'system_fingerprint': None, 'finish_reason': 'stop', 'logprobs': None}, id='run-91b08601-8f8a-4b9b-a7f9-617b3be8249a-0', usage_metadata={'input_tokens': 142, 'output_tokens': 13, 'total_tokens': 155, 'input_token_details': {'audio': 0, 'cache_read': 0}, 'output_token_details': {'audio': 0, 'reasoning': 0}})]}, next=(), config={'configurable': {'thread_id': '1', 'checkpoint_ns': '', 'checkpoint_id': '1efa02ad-a3ec-68f3-8007-a9fab3a6e894'}}, metadata={'source': 'loop', 'writes': {'chatbot': {'messages': [AIMessage(content='Your name is Will. How can I assist you further?', additional_kwargs={'refusal': None}, response_metadata={'token_usage': {'completion_tokens': 13, 'prompt_tokens': 142, 'total_tokens': 155, 'completion_tokens_details': {'accepted_prediction_tokens': 0, 'audio_tokens': 0, 'reasoning_tokens': 0, 'rejected_prediction_tokens': 0}, 'prompt_tokens_details': {'audio_tokens': 0, 'cached_tokens': 0}}, 'model_name': 'gpt-4-0613', 'system_fingerprint': None, 'finish_reason': 'stop', 'logprobs': None}, id='run-91b08601-8f8a-4b9b-a7f9-617b3be8249a-0', usage_metadata={'input_tokens': 142, 'output_tokens': 13, 'total_tokens': 155, 'input_token_details': {'audio': 0, 'cache_read': 0}, 'output_token_details': {'audio': 0, 'reasoning': 0}})]}}, 'thread_id': '1', 'step': 7, 'parents': {}}, created_at='2024-11-11T12:45:38.239280+00:00', parent_config={'configurable': {'thread_id': '1', 'checkpoint_ns': '', 'checkpoint_id': '1efa02ad-987e-6c82-8006-4c5307d08cee'}}, tasks=())"
      ]
     },
     "execution_count": 38,
     "metadata": {},
     "output_type": "execute_result"
    }
   ],
   "source": [
    "snapshot = graph.get_state(config)\n",
    "snapshot"
   ]
  },
  {
   "cell_type": "code",
   "execution_count": 39,
   "id": "f0631fa5-9642-4d7e-9b2e-f45703189e70",
   "metadata": {},
   "outputs": [
    {
     "data": {
      "text/plain": [
       "()"
      ]
     },
     "execution_count": 39,
     "metadata": {},
     "output_type": "execute_result"
    }
   ],
   "source": [
    "snapshot.next"
   ]
  },
  {
   "cell_type": "code",
   "execution_count": 57,
   "id": "94e76069-2675-42b5-8488-d1fc5dde8fc9",
   "metadata": {},
   "outputs": [
    {
     "data": {
      "text/plain": [
       "<langgraph.graph.state.StateGraph at 0x7f72f014b3d0>"
      ]
     },
     "execution_count": 57,
     "metadata": {},
     "output_type": "execute_result"
    }
   ],
   "source": [
    "from typing import Annotated\n",
    "\n",
    "from langchain_openai import ChatOpenAI\n",
    "from langchain_community.tools.tavily_search import TavilySearchResults\n",
    "from langchain_core.messages import BaseMessage\n",
    "from typing_extensions import TypedDict\n",
    "\n",
    "from langgraph.graph import StateGraph, START, END\n",
    "from langgraph.graph.message import add_messages\n",
    "from langgraph.prebuilt import ToolNode, tools_condition\n",
    "\n",
    "memory = MemorySaver()\n",
    "\n",
    "class State(TypedDict):\n",
    "    messages: Annotated[list, add_messages]\n",
    "    \n",
    "    \n",
    "graph_builder = StateGraph(State)\n",
    "\n",
    "tool = TavilySearchResults(max_results=2)\n",
    "tools = [tool]\n",
    "tool_node = ToolNode(tools=[tool])\n",
    "llm = ChatOpenAI(model=\"gpt-4\")\n",
    "llm_with_tools = llm.bind_tools(tools)\n",
    "\n",
    "def chatbot(state: State):\n",
    "    return {\"messages\": [llm_with_tools.invoke(state[\"messages\"])]}\n",
    "\n",
    "graph_builder.add_node(\"chatbot\", chatbot)\n",
    "graph_builder.add_node(\"tools\", tool_node)\n",
    "graph_builder.add_conditional_edges(\n",
    "    \"chatbot\",\n",
    "    tools_condition,\n",
    ")\n",
    "\n",
    "graph_builder.add_edge(\"tools\", \"chatbot\")\n",
    "graph_builder.add_edge(START, \"chatbot\")"
   ]
  },
  {
   "cell_type": "code",
   "execution_count": 58,
   "id": "65119b58-225a-4537-8e53-c62b8ebc7933",
   "metadata": {},
   "outputs": [],
   "source": [
    "graph = graph_builder.compile(\n",
    "    checkpointer=memory,\n",
    "    # This is new!\n",
    "    interrupt_before=[\"tools\"],\n",
    "    # Note: can also interrupt __after__ tools, if desired.\n",
    "    # interrupt_after=[\"tools\"]\n",
    ")"
   ]
  },
  {
   "cell_type": "code",
   "execution_count": 59,
   "id": "fd3623e6-8416-496f-bf2a-593650f1bb42",
   "metadata": {},
   "outputs": [
    {
     "name": "stdout",
     "output_type": "stream",
     "text": [
      "================================\u001b[1m Human Message \u001b[0m=================================\n",
      "\n",
      "I'm learning LangGraph. Could you do some research on it for me?\n",
      "==================================\u001b[1m Ai Message \u001b[0m==================================\n",
      "Tool Calls:\n",
      "  tavily_search_results_json (call_0VjNrxxR7DvWgcMoMCh3NGKv)\n",
      " Call ID: call_0VjNrxxR7DvWgcMoMCh3NGKv\n",
      "  Args:\n",
      "    query: LangGraph\n"
     ]
    }
   ],
   "source": [
    "user_input = \"I'm learning LangGraph. Could you do some research on it for me?\"\n",
    "config = {\"configurable\": {\"thread_id\": \"1\"}}\n",
    "# The config is the **second positional argument** to stream() or invoke()!\n",
    "events = graph.stream(\n",
    "    {\"messages\": [(\"user\", user_input)]}, config, stream_mode=\"values\"\n",
    ")\n",
    "for event in events:\n",
    "    if \"messages\" in event:\n",
    "        event[\"messages\"][-1].pretty_print()"
   ]
  },
  {
   "cell_type": "code",
   "execution_count": 60,
   "id": "e3f2db08-4742-4019-9c30-886cfb057f5c",
   "metadata": {},
   "outputs": [
    {
     "data": {
      "text/plain": [
       "('tools',)"
      ]
     },
     "execution_count": 60,
     "metadata": {},
     "output_type": "execute_result"
    }
   ],
   "source": [
    "snapshot = graph.get_state(config)\n",
    "snapshot.next"
   ]
  },
  {
   "cell_type": "code",
   "execution_count": 61,
   "id": "7d8b125d-e4af-45bf-83f6-a231352d0fe4",
   "metadata": {},
   "outputs": [
    {
     "data": {
      "text/plain": [
       "[{'name': 'tavily_search_results_json',\n",
       "  'args': {'query': 'LangGraph'},\n",
       "  'id': 'call_0VjNrxxR7DvWgcMoMCh3NGKv',\n",
       "  'type': 'tool_call'}]"
      ]
     },
     "execution_count": 61,
     "metadata": {},
     "output_type": "execute_result"
    }
   ],
   "source": [
    "existing_message = snapshot.values[\"messages\"][-1]\n",
    "existing_message.tool_calls"
   ]
  },
  {
   "cell_type": "code",
   "execution_count": 62,
   "id": "f619f36e-90cd-4205-9758-c2ec830153b6",
   "metadata": {},
   "outputs": [
    {
     "name": "stdout",
     "output_type": "stream",
     "text": [
      "==================================\u001b[1m Ai Message \u001b[0m==================================\n",
      "Tool Calls:\n",
      "  tavily_search_results_json (call_0VjNrxxR7DvWgcMoMCh3NGKv)\n",
      " Call ID: call_0VjNrxxR7DvWgcMoMCh3NGKv\n",
      "  Args:\n",
      "    query: LangGraph\n",
      "=================================\u001b[1m Tool Message \u001b[0m=================================\n",
      "Name: tavily_search_results_json\n",
      "\n",
      "[{\"url\": \"https://www.datacamp.com/tutorial/langgraph-tutorial\", \"content\": \"LangGraph is a library within the LangChain ecosystem that simplifies the development of complex, multi-agent large language model (LLM) applications. Learn how to use LangGraph to create stateful, flexible, and scalable systems with nodes, edges, and state management.\"}, {\"url\": \"https://langchain-ai.github.io/langgraph/\", \"content\": \"LangGraph is a low-level framework that allows you to create stateful, multi-actor applications with LLMs, using cycles, controllability, and persistence. Learn how to use LangGraph with LangChain, LangSmith, and Anthropic tools to build agent and multi-agent workflows.\"}]\n",
      "==================================\u001b[1m Ai Message \u001b[0m==================================\n",
      "\n",
      "LangGraph is a library within the LangChain ecosystem that is designed to simplify the development of complex, multi-agent large language model (LLM) applications. It provides a structure for creating stateful, flexible, and scalable systems using nodes, edges, and state management.\n",
      "\n",
      "It is a low-level framework that supports the creation of stateful, multi-actor applications with LLMs, using cycles, controllability, and persistence. LangGraph can be used with other tools like LangChain, LangSmith, and Anthropic to build agent and multi-agent workflows.\n",
      "\n",
      "You can learn more about it from these resources:\n",
      "- [Datacamp Tutorial on LangGraph](https://www.datacamp.com/tutorial/langgraph-tutorial)\n",
      "- [LangGraph Documentation](https://langchain-ai.github.io/langgraph/)\n"
     ]
    }
   ],
   "source": [
    "# `None` will append nothing new to the current state, letting it resume as if it had never been interrupted\n",
    "events = graph.stream(None, config, stream_mode=\"values\")\n",
    "for event in events:\n",
    "    if \"messages\" in event:\n",
    "        event[\"messages\"][-1].pretty_print()"
   ]
  },
  {
   "cell_type": "code",
   "execution_count": 63,
   "id": "2492d5c4-eaee-42af-9082-1d8d7c36c34f",
   "metadata": {},
   "outputs": [],
   "source": [
    "from typing import Annotated\n",
    "\n",
    "from langchain_openai import ChatOpenAI\n",
    "from langchain_community.tools.tavily_search import TavilySearchResults\n",
    "from typing_extensions import TypedDict\n",
    "\n",
    "from langgraph.checkpoint.memory import MemorySaver\n",
    "from langgraph.graph import StateGraph, START\n",
    "from langgraph.graph.message import add_messages\n",
    "from langgraph.prebuilt import ToolNode, tools_condition\n",
    "\n",
    "\n",
    "class State(TypedDict):\n",
    "    messages: Annotated[list, add_messages]\n",
    "\n",
    "\n",
    "graph_builder = StateGraph(State)\n",
    "\n",
    "\n",
    "tool = TavilySearchResults(max_results=2)\n",
    "tools = [tool]\n",
    "llm = ChatOpenAI(model=\"gpt-4\")\n",
    "llm_with_tools = llm.bind_tools(tools)\n",
    "\n",
    "\n",
    "def chatbot(state: State):\n",
    "    return {\"messages\": [llm_with_tools.invoke(state[\"messages\"])]}\n",
    "\n",
    "\n",
    "graph_builder.add_node(\"chatbot\", chatbot)\n",
    "\n",
    "tool_node = ToolNode(tools=[tool])\n",
    "graph_builder.add_node(\"tools\", tool_node)\n",
    "\n",
    "graph_builder.add_conditional_edges(\n",
    "    \"chatbot\",\n",
    "    tools_condition,\n",
    ")\n",
    "graph_builder.add_edge(\"tools\", \"chatbot\")\n",
    "graph_builder.add_edge(START, \"chatbot\")\n",
    "memory = MemorySaver()\n",
    "graph = graph_builder.compile(\n",
    "    checkpointer=memory,\n",
    "    # This is new!\n",
    "    interrupt_before=[\"tools\"],\n",
    "    # Note: can also interrupt **after** actions, if desired.\n",
    "    # interrupt_after=[\"tools\"]\n",
    ")\n",
    "\n",
    "user_input = \"I'm learning LangGraph. Could you do some research on it for me?\"\n",
    "config = {\"configurable\": {\"thread_id\": \"1\"}}\n",
    "# The config is the **second positional argument** to stream() or invoke()!\n",
    "events = graph.stream({\"messages\": [(\"user\", user_input)]}, config)\n",
    "for event in events:\n",
    "    if \"messages\" in event:\n",
    "        event[\"messages\"][-1].pretty_print()"
   ]
  },
  {
   "cell_type": "code",
   "execution_count": 64,
   "id": "243086a3-1fad-4dba-a4bf-8db9127a9d15",
   "metadata": {},
   "outputs": [
    {
     "name": "stdout",
     "output_type": "stream",
     "text": [
      "==================================\u001b[1m Ai Message \u001b[0m==================================\n",
      "Tool Calls:\n",
      "  tavily_search_results_json (call_jXSgNIJYn16qSzffMDvn7YLH)\n",
      " Call ID: call_jXSgNIJYn16qSzffMDvn7YLH\n",
      "  Args:\n",
      "    query: LangGraph\n"
     ]
    }
   ],
   "source": [
    "snapshot = graph.get_state(config)\n",
    "existing_message = snapshot.values[\"messages\"][-1]\n",
    "existing_message.pretty_print()"
   ]
  },
  {
   "cell_type": "code",
   "execution_count": 65,
   "id": "54ea24ef-1f38-4042-8961-7ed2f74256cf",
   "metadata": {},
   "outputs": [
    {
     "name": "stdout",
     "output_type": "stream",
     "text": [
      "==================================\u001b[1m Ai Message \u001b[0m==================================\n",
      "\n",
      "LangGraph is a library for building stateful, multi-actor applications with LLMs.\n",
      "\n",
      "\n",
      "Last 2 messages;\n",
      "[ToolMessage(content='LangGraph is a library for building stateful, multi-actor applications with LLMs.', id='f82ea1ef-8da8-4526-ae0f-14166ea6c68b', tool_call_id='call_jXSgNIJYn16qSzffMDvn7YLH'), AIMessage(content='LangGraph is a library for building stateful, multi-actor applications with LLMs.', additional_kwargs={}, response_metadata={}, id='2a4fe466-d3d1-47b7-9bc4-95c478a64e99')]\n"
     ]
    }
   ],
   "source": [
    "from langchain_core.messages import AIMessage, ToolMessage\n",
    "\n",
    "answer = (\n",
    "    \"LangGraph is a library for building stateful, multi-actor applications with LLMs.\"\n",
    ")\n",
    "new_messages = [\n",
    "    # The LLM API expects some ToolMessage to match its tool call. We'll satisfy that here.\n",
    "    ToolMessage(content=answer, tool_call_id=existing_message.tool_calls[0][\"id\"]),\n",
    "    # And then directly \"put words in the LLM's mouth\" by populating its response.\n",
    "    AIMessage(content=answer),\n",
    "]\n",
    "\n",
    "new_messages[-1].pretty_print()\n",
    "graph.update_state(\n",
    "    # Which state to update\n",
    "    config,\n",
    "    # The updated values to provide. The messages in our `State` are \"append-only\", meaning this will be appended\n",
    "    # to the existing state. We will review how to update existing messages in the next section!\n",
    "    {\"messages\": new_messages},\n",
    ")\n",
    "\n",
    "print(\"\\n\\nLast 2 messages;\")\n",
    "print(graph.get_state(config).values[\"messages\"][-2:])"
   ]
  },
  {
   "cell_type": "code",
   "execution_count": 66,
   "id": "71041bb2-d987-488f-9b25-8d62f902edfe",
   "metadata": {},
   "outputs": [
    {
     "data": {
      "text/plain": [
       "{'configurable': {'thread_id': '1',\n",
       "  'checkpoint_ns': '',\n",
       "  'checkpoint_id': '1efa02e7-03ba-6417-8003-9e37ef50bb16'}}"
      ]
     },
     "execution_count": 66,
     "metadata": {},
     "output_type": "execute_result"
    }
   ],
   "source": [
    "graph.update_state(\n",
    "    config,\n",
    "    {\"messages\": [AIMessage(content=\"I'm an AI expert!\")]},\n",
    "    # Which node for this function to act as. It will automatically continue\n",
    "    # processing as if this node just ran.\n",
    "    as_node=\"chatbot\",\n",
    ")"
   ]
  },
  {
   "cell_type": "code",
   "execution_count": 67,
   "id": "3851930b-db4e-4135-a1c1-395a8e4c502e",
   "metadata": {},
   "outputs": [
    {
     "name": "stdout",
     "output_type": "stream",
     "text": [
      "[ToolMessage(content='LangGraph is a library for building stateful, multi-actor applications with LLMs.', id='f82ea1ef-8da8-4526-ae0f-14166ea6c68b', tool_call_id='call_jXSgNIJYn16qSzffMDvn7YLH'), AIMessage(content='LangGraph is a library for building stateful, multi-actor applications with LLMs.', additional_kwargs={}, response_metadata={}, id='2a4fe466-d3d1-47b7-9bc4-95c478a64e99'), AIMessage(content=\"I'm an AI expert!\", additional_kwargs={}, response_metadata={}, id='3819b864-a0c4-4a5a-9f05-fe565c07031a')]\n",
      "()\n"
     ]
    }
   ],
   "source": [
    "snapshot = graph.get_state(config)\n",
    "print(snapshot.values[\"messages\"][-3:])\n",
    "print(snapshot.next)"
   ]
  },
  {
   "cell_type": "code",
   "execution_count": 68,
   "id": "263997a9-540f-482e-bda4-a813f7c275c1",
   "metadata": {},
   "outputs": [
    {
     "name": "stdout",
     "output_type": "stream",
     "text": [
      "================================\u001b[1m Human Message \u001b[0m=================================\n",
      "\n",
      "I'm learning LangGraph. Could you do some research on it for me?\n",
      "==================================\u001b[1m Ai Message \u001b[0m==================================\n",
      "Tool Calls:\n",
      "  tavily_search_results_json (call_nhAff2xvcUYmYjpAwNXrjPzy)\n",
      " Call ID: call_nhAff2xvcUYmYjpAwNXrjPzy\n",
      "  Args:\n",
      "    query: LangGraph\n"
     ]
    }
   ],
   "source": [
    "user_input = \"I'm learning LangGraph. Could you do some research on it for me?\"\n",
    "config = {\"configurable\": {\"thread_id\": \"2\"}}  # we'll use thread_id = 2 here\n",
    "events = graph.stream(\n",
    "    {\"messages\": [(\"user\", user_input)]}, config, stream_mode=\"values\"\n",
    ")\n",
    "for event in events:\n",
    "    if \"messages\" in event:\n",
    "        event[\"messages\"][-1].pretty_print()"
   ]
  },
  {
   "cell_type": "code",
   "execution_count": 72,
   "id": "8ce91f6c-5449-41e7-b8e4-4ef50623ed34",
   "metadata": {},
   "outputs": [
    {
     "name": "stdout",
     "output_type": "stream",
     "text": [
      "==================================\u001b[1m Ai Message \u001b[0m==================================\n",
      "Tool Calls:\n",
      "  tavily_search_results_json (call_nhAff2xvcUYmYjpAwNXrjPzy)\n",
      " Call ID: call_nhAff2xvcUYmYjpAwNXrjPzy\n",
      "  Args:\n",
      "    query: LangGraph\n"
     ]
    }
   ],
   "source": [
    "from langchain_core.messages import AIMessage\n",
    "\n",
    "snapshot = graph.get_state(config)\n",
    "existing_message = snapshot.values[\"messages\"][-1]\n",
    "existing_message.pretty_print()"
   ]
  },
  {
   "cell_type": "code",
   "execution_count": 77,
   "id": "801d9fcf-3c09-4dff-85c2-6426172d1d4b",
   "metadata": {},
   "outputs": [
    {
     "data": {
      "text/plain": [
       "'LangGraph'"
      ]
     },
     "execution_count": 77,
     "metadata": {},
     "output_type": "execute_result"
    }
   ],
   "source": [
    "existing_message.tool_calls[0]['args']['query']"
   ]
  },
  {
   "cell_type": "code",
   "execution_count": 78,
   "id": "a06d082e-b4b0-4fe1-80b1-ef0cce9d9827",
   "metadata": {},
   "outputs": [
    {
     "name": "stdout",
     "output_type": "stream",
     "text": [
      "Original\n",
      "Message ID run-fcb1724d-5cd3-4807-b377-6be0c15df5c1-0\n",
      "{'name': 'tavily_search_results_json', 'args': {'query': 'LangGraph'}, 'id': 'call_nhAff2xvcUYmYjpAwNXrjPzy', 'type': 'tool_call'}\n",
      "Updated\n",
      "{'name': 'tavily_search_results_json', 'args': {'query': 'LangGraph human-in-the-loop workflow'}, 'id': 'call_nhAff2xvcUYmYjpAwNXrjPzy', 'type': 'tool_call'}\n",
      "Message ID run-fcb1724d-5cd3-4807-b377-6be0c15df5c1-0\n",
      "\n",
      "\n",
      "Tool calls\n"
     ]
    },
    {
     "data": {
      "text/plain": [
       "[{'name': 'tavily_search_results_json',\n",
       "  'args': {'query': 'LangGraph human-in-the-loop workflow'},\n",
       "  'id': 'call_nhAff2xvcUYmYjpAwNXrjPzy',\n",
       "  'type': 'tool_call'}]"
      ]
     },
     "execution_count": 78,
     "metadata": {},
     "output_type": "execute_result"
    }
   ],
   "source": [
    "from langchain_core.messages import AIMessage\n",
    "\n",
    "snapshot = graph.get_state(config)\n",
    "existing_message = snapshot.values[\"messages\"][-1]\n",
    "print(\"Original\")\n",
    "print(\"Message ID\", existing_message.id)\n",
    "print(existing_message.tool_calls[0])\n",
    "new_tool_call = existing_message.tool_calls[0].copy()\n",
    "new_tool_call[\"args\"][\"query\"] = \"LangGraph human-in-the-loop workflow\"\n",
    "new_message = AIMessage(\n",
    "    content=existing_message.content,\n",
    "    tool_calls=[new_tool_call],\n",
    "    # Important! The ID is how LangGraph knows to REPLACE the message in the state rather than APPEND this messages\n",
    "    id=existing_message.id,\n",
    ")\n",
    "\n",
    "print(\"Updated\")\n",
    "print(new_message.tool_calls[0])\n",
    "print(\"Message ID\", new_message.id)\n",
    "graph.update_state(config, {\"messages\": [new_message]})\n",
    "\n",
    "print(\"\\n\\nTool calls\")\n",
    "graph.get_state(config).values[\"messages\"][-1].tool_calls"
   ]
  },
  {
   "cell_type": "code",
   "execution_count": 80,
   "id": "3879e9da-d0a7-4cc5-8736-fb2327dc36fd",
   "metadata": {},
   "outputs": [
    {
     "name": "stdout",
     "output_type": "stream",
     "text": [
      "{'messages': [HumanMessage(content=\"I'm learning LangGraph. Could you do some research on it for me?\", additional_kwargs={}, response_metadata={}, id='88c92dc1-ff93-487e-b148-70cd2cf1202e'), AIMessage(content='', additional_kwargs={}, response_metadata={}, id='run-fcb1724d-5cd3-4807-b377-6be0c15df5c1-0', tool_calls=[{'name': 'tavily_search_results_json', 'args': {'query': 'LangGraph human-in-the-loop workflow'}, 'id': 'call_nhAff2xvcUYmYjpAwNXrjPzy', 'type': 'tool_call'}])]}\n",
      "==================================\u001b[1m Ai Message \u001b[0m==================================\n",
      "Tool Calls:\n",
      "  tavily_search_results_json (call_nhAff2xvcUYmYjpAwNXrjPzy)\n",
      " Call ID: call_nhAff2xvcUYmYjpAwNXrjPzy\n",
      "  Args:\n",
      "    query: LangGraph human-in-the-loop workflow\n",
      "{'messages': [HumanMessage(content=\"I'm learning LangGraph. Could you do some research on it for me?\", additional_kwargs={}, response_metadata={}, id='88c92dc1-ff93-487e-b148-70cd2cf1202e'), AIMessage(content='', additional_kwargs={}, response_metadata={}, id='run-fcb1724d-5cd3-4807-b377-6be0c15df5c1-0', tool_calls=[{'name': 'tavily_search_results_json', 'args': {'query': 'LangGraph human-in-the-loop workflow'}, 'id': 'call_nhAff2xvcUYmYjpAwNXrjPzy', 'type': 'tool_call'}]), ToolMessage(content='[{\"url\": \"https://www.youtube.com/watch?v=9BPCV5TYPmg\", \"content\": \"In this video, I\\'ll show you how to handle persistence with LangGraph, enabling a unique Human-in-the-Loop workflow. This approach allows a human to grant an\"}, {\"url\": \"https://medium.com/@kbdhunga/implementing-human-in-the-loop-with-langgraph-ccfde023385c\", \"content\": \"Implementing a Human-in-the-Loop (HIL) framework in LangGraph with the Streamlit app provides a robust mechanism for user engagement and decision-making. By incorporating breakpoints and\"}]', name='tavily_search_results_json', id='30662ea1-02a5-4134-88cf-5b668a81c37f', tool_call_id='call_nhAff2xvcUYmYjpAwNXrjPzy', artifact={'query': 'LangGraph human-in-the-loop workflow', 'follow_up_questions': None, 'answer': None, 'images': [], 'results': [{'title': 'LangGraph - Persistence & Human-in-the-Loop Workflow - YouTube', 'url': 'https://www.youtube.com/watch?v=9BPCV5TYPmg', 'content': \"In this video, I'll show you how to handle persistence with LangGraph, enabling a unique Human-in-the-Loop workflow. This approach allows a human to grant an\", 'score': 0.9992706, 'raw_content': None}, {'title': 'Implementing Human-in-the-Loop with LangGraph - Medium', 'url': 'https://medium.com/@kbdhunga/implementing-human-in-the-loop-with-langgraph-ccfde023385c', 'content': 'Implementing a Human-in-the-Loop (HIL) framework in LangGraph with the Streamlit app provides a robust mechanism for user engagement and decision-making. By incorporating breakpoints and', 'score': 0.998784, 'raw_content': None}], 'response_time': 2.08})]}\n",
      "=================================\u001b[1m Tool Message \u001b[0m=================================\n",
      "Name: tavily_search_results_json\n",
      "\n",
      "[{\"url\": \"https://www.youtube.com/watch?v=9BPCV5TYPmg\", \"content\": \"In this video, I'll show you how to handle persistence with LangGraph, enabling a unique Human-in-the-Loop workflow. This approach allows a human to grant an\"}, {\"url\": \"https://medium.com/@kbdhunga/implementing-human-in-the-loop-with-langgraph-ccfde023385c\", \"content\": \"Implementing a Human-in-the-Loop (HIL) framework in LangGraph with the Streamlit app provides a robust mechanism for user engagement and decision-making. By incorporating breakpoints and\"}]\n",
      "{'messages': [HumanMessage(content=\"I'm learning LangGraph. Could you do some research on it for me?\", additional_kwargs={}, response_metadata={}, id='88c92dc1-ff93-487e-b148-70cd2cf1202e'), AIMessage(content='', additional_kwargs={}, response_metadata={}, id='run-fcb1724d-5cd3-4807-b377-6be0c15df5c1-0', tool_calls=[{'name': 'tavily_search_results_json', 'args': {'query': 'LangGraph human-in-the-loop workflow'}, 'id': 'call_nhAff2xvcUYmYjpAwNXrjPzy', 'type': 'tool_call'}]), ToolMessage(content='[{\"url\": \"https://www.youtube.com/watch?v=9BPCV5TYPmg\", \"content\": \"In this video, I\\'ll show you how to handle persistence with LangGraph, enabling a unique Human-in-the-Loop workflow. This approach allows a human to grant an\"}, {\"url\": \"https://medium.com/@kbdhunga/implementing-human-in-the-loop-with-langgraph-ccfde023385c\", \"content\": \"Implementing a Human-in-the-Loop (HIL) framework in LangGraph with the Streamlit app provides a robust mechanism for user engagement and decision-making. By incorporating breakpoints and\"}]', name='tavily_search_results_json', id='30662ea1-02a5-4134-88cf-5b668a81c37f', tool_call_id='call_nhAff2xvcUYmYjpAwNXrjPzy', artifact={'query': 'LangGraph human-in-the-loop workflow', 'follow_up_questions': None, 'answer': None, 'images': [], 'results': [{'title': 'LangGraph - Persistence & Human-in-the-Loop Workflow - YouTube', 'url': 'https://www.youtube.com/watch?v=9BPCV5TYPmg', 'content': \"In this video, I'll show you how to handle persistence with LangGraph, enabling a unique Human-in-the-Loop workflow. This approach allows a human to grant an\", 'score': 0.9992706, 'raw_content': None}, {'title': 'Implementing Human-in-the-Loop with LangGraph - Medium', 'url': 'https://medium.com/@kbdhunga/implementing-human-in-the-loop-with-langgraph-ccfde023385c', 'content': 'Implementing a Human-in-the-Loop (HIL) framework in LangGraph with the Streamlit app provides a robust mechanism for user engagement and decision-making. By incorporating breakpoints and', 'score': 0.998784, 'raw_content': None}], 'response_time': 2.08}), AIMessage(content='Sure, here are some resources I found on LangGraph and its use in a human-in-the-loop (HIL) workflow:\\n\\n1. A [YouTube video](https://www.youtube.com/watch?v=9BPCV5TYPmg) that explains how to handle persistence with LangGraph, enabling a unique Human-in-the-Loop workflow.\\n\\n2. An article on [Medium](https://medium.com/@kbdhunga/implementing-human-in-the-loop-with-langgraph-ccfde023385c) that discusses the implementation of a Human-in-the-Loop (HIL) framework in LangGraph with the Streamlit app, which provides a robust mechanism for user engagement and decision-making.\\n\\nThese resources should provide a good starting point for understanding how LangGraph can be used in a HIL workflow.', additional_kwargs={'refusal': None}, response_metadata={'token_usage': {'completion_tokens': 164, 'prompt_tokens': 264, 'total_tokens': 428, 'completion_tokens_details': {'accepted_prediction_tokens': 0, 'audio_tokens': 0, 'reasoning_tokens': 0, 'rejected_prediction_tokens': 0}, 'prompt_tokens_details': {'audio_tokens': 0, 'cached_tokens': 0}}, 'model_name': 'gpt-4-0613', 'system_fingerprint': None, 'finish_reason': 'stop', 'logprobs': None}, id='run-66b129f6-fb93-4699-9438-23d5caf9cccf-0', usage_metadata={'input_tokens': 264, 'output_tokens': 164, 'total_tokens': 428, 'input_token_details': {'audio': 0, 'cache_read': 0}, 'output_token_details': {'audio': 0, 'reasoning': 0}})]}\n",
      "==================================\u001b[1m Ai Message \u001b[0m==================================\n",
      "\n",
      "Sure, here are some resources I found on LangGraph and its use in a human-in-the-loop (HIL) workflow:\n",
      "\n",
      "1. A [YouTube video](https://www.youtube.com/watch?v=9BPCV5TYPmg) that explains how to handle persistence with LangGraph, enabling a unique Human-in-the-Loop workflow.\n",
      "\n",
      "2. An article on [Medium](https://medium.com/@kbdhunga/implementing-human-in-the-loop-with-langgraph-ccfde023385c) that discusses the implementation of a Human-in-the-Loop (HIL) framework in LangGraph with the Streamlit app, which provides a robust mechanism for user engagement and decision-making.\n",
      "\n",
      "These resources should provide a good starting point for understanding how LangGraph can be used in a HIL workflow.\n"
     ]
    }
   ],
   "source": [
    "events = graph.stream(None, config, stream_mode=\"values\")\n",
    "for event in events:\n",
    "    print(event)\n",
    "    if \"messages\" in event:\n",
    "        event[\"messages\"][-1].pretty_print()"
   ]
  },
  {
   "cell_type": "code",
   "execution_count": 82,
   "id": "81a36b99-178f-485e-a173-0fcd7799b29e",
   "metadata": {
    "collapsed": true,
    "jupyter": {
     "outputs_hidden": true
    }
   },
   "outputs": [
    {
     "name": "stdout",
     "output_type": "stream",
     "text": [
      "================================\u001b[1m Human Message \u001b[0m=================================\n",
      "\n",
      "Search on the web and tell me about a girl named Sreejony Haque from Bangladesh\n",
      "==================================\u001b[1m Ai Message \u001b[0m==================================\n",
      "Tool Calls:\n",
      "  tavily_search_results_json (call_hN1zSTU95kD9TIQe8aj6aYyi)\n",
      " Call ID: call_hN1zSTU95kD9TIQe8aj6aYyi\n",
      "  Args:\n",
      "    query: Sreejony Haque from Bangladesh\n"
     ]
    }
   ],
   "source": [
    "events = graph.stream(\n",
    "    {\n",
    "        \"messages\": (\n",
    "            \"user\",\n",
    "            \"Search on the web and tell me about a girl named Sreejony Haque from Bangladesh\",\n",
    "        )\n",
    "    },\n",
    "    config,\n",
    "    stream_mode=\"values\",\n",
    ")\n",
    "for event in events:\n",
    "    if \"messages\" in event:\n",
    "        event[\"messages\"][-1].pretty_print()"
   ]
  },
  {
   "cell_type": "code",
   "execution_count": 83,
   "id": "17e81e95-c0d0-4881-b3fd-ae8a8464f6b6",
   "metadata": {},
   "outputs": [
    {
     "name": "stdout",
     "output_type": "stream",
     "text": [
      "{'messages': [HumanMessage(content=\"I'm learning LangGraph. Could you do some research on it for me?\", additional_kwargs={}, response_metadata={}, id='88c92dc1-ff93-487e-b148-70cd2cf1202e'), AIMessage(content='', additional_kwargs={}, response_metadata={}, id='run-fcb1724d-5cd3-4807-b377-6be0c15df5c1-0', tool_calls=[{'name': 'tavily_search_results_json', 'args': {'query': 'LangGraph human-in-the-loop workflow'}, 'id': 'call_nhAff2xvcUYmYjpAwNXrjPzy', 'type': 'tool_call'}]), ToolMessage(content='[{\"url\": \"https://www.youtube.com/watch?v=9BPCV5TYPmg\", \"content\": \"In this video, I\\'ll show you how to handle persistence with LangGraph, enabling a unique Human-in-the-Loop workflow. This approach allows a human to grant an\"}, {\"url\": \"https://medium.com/@kbdhunga/implementing-human-in-the-loop-with-langgraph-ccfde023385c\", \"content\": \"Implementing a Human-in-the-Loop (HIL) framework in LangGraph with the Streamlit app provides a robust mechanism for user engagement and decision-making. By incorporating breakpoints and\"}]', name='tavily_search_results_json', id='30662ea1-02a5-4134-88cf-5b668a81c37f', tool_call_id='call_nhAff2xvcUYmYjpAwNXrjPzy', artifact={'query': 'LangGraph human-in-the-loop workflow', 'follow_up_questions': None, 'answer': None, 'images': [], 'results': [{'title': 'LangGraph - Persistence & Human-in-the-Loop Workflow - YouTube', 'url': 'https://www.youtube.com/watch?v=9BPCV5TYPmg', 'content': \"In this video, I'll show you how to handle persistence with LangGraph, enabling a unique Human-in-the-Loop workflow. This approach allows a human to grant an\", 'score': 0.9992706, 'raw_content': None}, {'title': 'Implementing Human-in-the-Loop with LangGraph - Medium', 'url': 'https://medium.com/@kbdhunga/implementing-human-in-the-loop-with-langgraph-ccfde023385c', 'content': 'Implementing a Human-in-the-Loop (HIL) framework in LangGraph with the Streamlit app provides a robust mechanism for user engagement and decision-making. By incorporating breakpoints and', 'score': 0.998784, 'raw_content': None}], 'response_time': 2.08}), AIMessage(content='Sure, here are some resources I found on LangGraph and its use in a human-in-the-loop (HIL) workflow:\\n\\n1. A [YouTube video](https://www.youtube.com/watch?v=9BPCV5TYPmg) that explains how to handle persistence with LangGraph, enabling a unique Human-in-the-Loop workflow.\\n\\n2. An article on [Medium](https://medium.com/@kbdhunga/implementing-human-in-the-loop-with-langgraph-ccfde023385c) that discusses the implementation of a Human-in-the-Loop (HIL) framework in LangGraph with the Streamlit app, which provides a robust mechanism for user engagement and decision-making.\\n\\nThese resources should provide a good starting point for understanding how LangGraph can be used in a HIL workflow.', additional_kwargs={'refusal': None}, response_metadata={'token_usage': {'completion_tokens': 164, 'prompt_tokens': 264, 'total_tokens': 428, 'completion_tokens_details': {'accepted_prediction_tokens': 0, 'audio_tokens': 0, 'reasoning_tokens': 0, 'rejected_prediction_tokens': 0}, 'prompt_tokens_details': {'audio_tokens': 0, 'cached_tokens': 0}}, 'model_name': 'gpt-4-0613', 'system_fingerprint': None, 'finish_reason': 'stop', 'logprobs': None}, id='run-66b129f6-fb93-4699-9438-23d5caf9cccf-0', usage_metadata={'input_tokens': 264, 'output_tokens': 164, 'total_tokens': 428, 'input_token_details': {'audio': 0, 'cache_read': 0}, 'output_token_details': {'audio': 0, 'reasoning': 0}}), HumanMessage(content=\"Remember what I'm learning about?\", additional_kwargs={}, response_metadata={}, id='2642fcb7-7553-46dd-bbd0-afc5a0164444'), AIMessage(content='Yes, you are learning about LangGraph and its application in a human-in-the-loop workflow.', additional_kwargs={'refusal': None}, response_metadata={'token_usage': {'completion_tokens': 20, 'prompt_tokens': 442, 'total_tokens': 462, 'completion_tokens_details': {'accepted_prediction_tokens': 0, 'audio_tokens': 0, 'reasoning_tokens': 0, 'rejected_prediction_tokens': 0}, 'prompt_tokens_details': {'audio_tokens': 0, 'cached_tokens': 0}}, 'model_name': 'gpt-4-0613', 'system_fingerprint': None, 'finish_reason': 'stop', 'logprobs': None}, id='run-74e98613-c78b-449f-abd3-69c3ddd19223-0', usage_metadata={'input_tokens': 442, 'output_tokens': 20, 'total_tokens': 462, 'input_token_details': {'audio': 0, 'cache_read': 0}, 'output_token_details': {'audio': 0, 'reasoning': 0}}), HumanMessage(content='Search on the web and tell me about a girl named Sreejony Haque from Bangladesh', additional_kwargs={}, response_metadata={}, id='cb6df75b-33bf-434d-b929-433ad108e1d0'), AIMessage(content='', additional_kwargs={'tool_calls': [{'id': 'call_hN1zSTU95kD9TIQe8aj6aYyi', 'function': {'arguments': '{\\n  \"query\": \"Sreejony Haque from Bangladesh\"\\n}', 'name': 'tavily_search_results_json'}, 'type': 'function'}], 'refusal': None}, response_metadata={'token_usage': {'completion_tokens': 26, 'prompt_tokens': 488, 'total_tokens': 514, 'completion_tokens_details': {'accepted_prediction_tokens': 0, 'audio_tokens': 0, 'reasoning_tokens': 0, 'rejected_prediction_tokens': 0}, 'prompt_tokens_details': {'audio_tokens': 0, 'cached_tokens': 0}}, 'model_name': 'gpt-4-0613', 'system_fingerprint': None, 'finish_reason': 'tool_calls', 'logprobs': None}, id='run-61fb839a-8aaa-43f2-9dea-a97df35cd754-0', tool_calls=[{'name': 'tavily_search_results_json', 'args': {'query': 'Sreejony Haque from Bangladesh'}, 'id': 'call_hN1zSTU95kD9TIQe8aj6aYyi', 'type': 'tool_call'}], usage_metadata={'input_tokens': 488, 'output_tokens': 26, 'total_tokens': 514, 'input_token_details': {'audio': 0, 'cache_read': 0}, 'output_token_details': {'audio': 0, 'reasoning': 0}})]}\n",
      "==================================\u001b[1m Ai Message \u001b[0m==================================\n",
      "Tool Calls:\n",
      "  tavily_search_results_json (call_hN1zSTU95kD9TIQe8aj6aYyi)\n",
      " Call ID: call_hN1zSTU95kD9TIQe8aj6aYyi\n",
      "  Args:\n",
      "    query: Sreejony Haque from Bangladesh\n",
      "{'messages': [HumanMessage(content=\"I'm learning LangGraph. Could you do some research on it for me?\", additional_kwargs={}, response_metadata={}, id='88c92dc1-ff93-487e-b148-70cd2cf1202e'), AIMessage(content='', additional_kwargs={}, response_metadata={}, id='run-fcb1724d-5cd3-4807-b377-6be0c15df5c1-0', tool_calls=[{'name': 'tavily_search_results_json', 'args': {'query': 'LangGraph human-in-the-loop workflow'}, 'id': 'call_nhAff2xvcUYmYjpAwNXrjPzy', 'type': 'tool_call'}]), ToolMessage(content='[{\"url\": \"https://www.youtube.com/watch?v=9BPCV5TYPmg\", \"content\": \"In this video, I\\'ll show you how to handle persistence with LangGraph, enabling a unique Human-in-the-Loop workflow. This approach allows a human to grant an\"}, {\"url\": \"https://medium.com/@kbdhunga/implementing-human-in-the-loop-with-langgraph-ccfde023385c\", \"content\": \"Implementing a Human-in-the-Loop (HIL) framework in LangGraph with the Streamlit app provides a robust mechanism for user engagement and decision-making. By incorporating breakpoints and\"}]', name='tavily_search_results_json', id='30662ea1-02a5-4134-88cf-5b668a81c37f', tool_call_id='call_nhAff2xvcUYmYjpAwNXrjPzy', artifact={'query': 'LangGraph human-in-the-loop workflow', 'follow_up_questions': None, 'answer': None, 'images': [], 'results': [{'title': 'LangGraph - Persistence & Human-in-the-Loop Workflow - YouTube', 'url': 'https://www.youtube.com/watch?v=9BPCV5TYPmg', 'content': \"In this video, I'll show you how to handle persistence with LangGraph, enabling a unique Human-in-the-Loop workflow. This approach allows a human to grant an\", 'score': 0.9992706, 'raw_content': None}, {'title': 'Implementing Human-in-the-Loop with LangGraph - Medium', 'url': 'https://medium.com/@kbdhunga/implementing-human-in-the-loop-with-langgraph-ccfde023385c', 'content': 'Implementing a Human-in-the-Loop (HIL) framework in LangGraph with the Streamlit app provides a robust mechanism for user engagement and decision-making. By incorporating breakpoints and', 'score': 0.998784, 'raw_content': None}], 'response_time': 2.08}), AIMessage(content='Sure, here are some resources I found on LangGraph and its use in a human-in-the-loop (HIL) workflow:\\n\\n1. A [YouTube video](https://www.youtube.com/watch?v=9BPCV5TYPmg) that explains how to handle persistence with LangGraph, enabling a unique Human-in-the-Loop workflow.\\n\\n2. An article on [Medium](https://medium.com/@kbdhunga/implementing-human-in-the-loop-with-langgraph-ccfde023385c) that discusses the implementation of a Human-in-the-Loop (HIL) framework in LangGraph with the Streamlit app, which provides a robust mechanism for user engagement and decision-making.\\n\\nThese resources should provide a good starting point for understanding how LangGraph can be used in a HIL workflow.', additional_kwargs={'refusal': None}, response_metadata={'token_usage': {'completion_tokens': 164, 'prompt_tokens': 264, 'total_tokens': 428, 'completion_tokens_details': {'accepted_prediction_tokens': 0, 'audio_tokens': 0, 'reasoning_tokens': 0, 'rejected_prediction_tokens': 0}, 'prompt_tokens_details': {'audio_tokens': 0, 'cached_tokens': 0}}, 'model_name': 'gpt-4-0613', 'system_fingerprint': None, 'finish_reason': 'stop', 'logprobs': None}, id='run-66b129f6-fb93-4699-9438-23d5caf9cccf-0', usage_metadata={'input_tokens': 264, 'output_tokens': 164, 'total_tokens': 428, 'input_token_details': {'audio': 0, 'cache_read': 0}, 'output_token_details': {'audio': 0, 'reasoning': 0}}), HumanMessage(content=\"Remember what I'm learning about?\", additional_kwargs={}, response_metadata={}, id='2642fcb7-7553-46dd-bbd0-afc5a0164444'), AIMessage(content='Yes, you are learning about LangGraph and its application in a human-in-the-loop workflow.', additional_kwargs={'refusal': None}, response_metadata={'token_usage': {'completion_tokens': 20, 'prompt_tokens': 442, 'total_tokens': 462, 'completion_tokens_details': {'accepted_prediction_tokens': 0, 'audio_tokens': 0, 'reasoning_tokens': 0, 'rejected_prediction_tokens': 0}, 'prompt_tokens_details': {'audio_tokens': 0, 'cached_tokens': 0}}, 'model_name': 'gpt-4-0613', 'system_fingerprint': None, 'finish_reason': 'stop', 'logprobs': None}, id='run-74e98613-c78b-449f-abd3-69c3ddd19223-0', usage_metadata={'input_tokens': 442, 'output_tokens': 20, 'total_tokens': 462, 'input_token_details': {'audio': 0, 'cache_read': 0}, 'output_token_details': {'audio': 0, 'reasoning': 0}}), HumanMessage(content='Search on the web and tell me about a girl named Sreejony Haque from Bangladesh', additional_kwargs={}, response_metadata={}, id='cb6df75b-33bf-434d-b929-433ad108e1d0'), AIMessage(content='', additional_kwargs={'tool_calls': [{'id': 'call_hN1zSTU95kD9TIQe8aj6aYyi', 'function': {'arguments': '{\\n  \"query\": \"Sreejony Haque from Bangladesh\"\\n}', 'name': 'tavily_search_results_json'}, 'type': 'function'}], 'refusal': None}, response_metadata={'token_usage': {'completion_tokens': 26, 'prompt_tokens': 488, 'total_tokens': 514, 'completion_tokens_details': {'accepted_prediction_tokens': 0, 'audio_tokens': 0, 'reasoning_tokens': 0, 'rejected_prediction_tokens': 0}, 'prompt_tokens_details': {'audio_tokens': 0, 'cached_tokens': 0}}, 'model_name': 'gpt-4-0613', 'system_fingerprint': None, 'finish_reason': 'tool_calls', 'logprobs': None}, id='run-61fb839a-8aaa-43f2-9dea-a97df35cd754-0', tool_calls=[{'name': 'tavily_search_results_json', 'args': {'query': 'Sreejony Haque from Bangladesh'}, 'id': 'call_hN1zSTU95kD9TIQe8aj6aYyi', 'type': 'tool_call'}], usage_metadata={'input_tokens': 488, 'output_tokens': 26, 'total_tokens': 514, 'input_token_details': {'audio': 0, 'cache_read': 0}, 'output_token_details': {'audio': 0, 'reasoning': 0}}), ToolMessage(content='[{\"url\": \"https://bd.linkedin.com/in/sreejony-haque-5b5548265\", \"content\": \"Sreejony Haque Content Planner at binodiini Dhaka, Bangladesh. 6 followers 6 connections\"}, {\"url\": \"https://www.thedailystar.net/entertainment/theatre-arts/news/us-women-artistic-tribute-the-spirit-women-3279616\", \"content\": \"Sreejony Haque painted a girl with her heart locked up in a box in an attempt to translate women\\'s struggles against imposed gender stereotypes and socially forced identities, which cause them to\"}]', name='tavily_search_results_json', id='a418ec6c-da30-40bf-947d-7c1ef91d5b30', tool_call_id='call_hN1zSTU95kD9TIQe8aj6aYyi', artifact={'query': 'Sreejony Haque from Bangladesh', 'follow_up_questions': None, 'answer': None, 'images': [], 'results': [{'title': 'Sreejony Haque - Content Planner - binodiini - LinkedIn', 'url': 'https://bd.linkedin.com/in/sreejony-haque-5b5548265', 'content': 'Sreejony Haque Content Planner at binodiini Dhaka, Bangladesh. 6 followers 6 connections', 'score': 0.9997305, 'raw_content': None}, {'title': \"'US Women': An artistic tribute to the spirit of women\", 'url': 'https://www.thedailystar.net/entertainment/theatre-arts/news/us-women-artistic-tribute-the-spirit-women-3279616', 'content': \"Sreejony Haque painted a girl with her heart locked up in a box in an attempt to translate women's struggles against imposed gender stereotypes and socially forced identities, which cause them to\", 'score': 0.9982248, 'raw_content': None}], 'response_time': 2.65})]}\n",
      "=================================\u001b[1m Tool Message \u001b[0m=================================\n",
      "Name: tavily_search_results_json\n",
      "\n",
      "[{\"url\": \"https://bd.linkedin.com/in/sreejony-haque-5b5548265\", \"content\": \"Sreejony Haque Content Planner at binodiini Dhaka, Bangladesh. 6 followers 6 connections\"}, {\"url\": \"https://www.thedailystar.net/entertainment/theatre-arts/news/us-women-artistic-tribute-the-spirit-women-3279616\", \"content\": \"Sreejony Haque painted a girl with her heart locked up in a box in an attempt to translate women's struggles against imposed gender stereotypes and socially forced identities, which cause them to\"}]\n",
      "{'messages': [HumanMessage(content=\"I'm learning LangGraph. Could you do some research on it for me?\", additional_kwargs={}, response_metadata={}, id='88c92dc1-ff93-487e-b148-70cd2cf1202e'), AIMessage(content='', additional_kwargs={}, response_metadata={}, id='run-fcb1724d-5cd3-4807-b377-6be0c15df5c1-0', tool_calls=[{'name': 'tavily_search_results_json', 'args': {'query': 'LangGraph human-in-the-loop workflow'}, 'id': 'call_nhAff2xvcUYmYjpAwNXrjPzy', 'type': 'tool_call'}]), ToolMessage(content='[{\"url\": \"https://www.youtube.com/watch?v=9BPCV5TYPmg\", \"content\": \"In this video, I\\'ll show you how to handle persistence with LangGraph, enabling a unique Human-in-the-Loop workflow. This approach allows a human to grant an\"}, {\"url\": \"https://medium.com/@kbdhunga/implementing-human-in-the-loop-with-langgraph-ccfde023385c\", \"content\": \"Implementing a Human-in-the-Loop (HIL) framework in LangGraph with the Streamlit app provides a robust mechanism for user engagement and decision-making. By incorporating breakpoints and\"}]', name='tavily_search_results_json', id='30662ea1-02a5-4134-88cf-5b668a81c37f', tool_call_id='call_nhAff2xvcUYmYjpAwNXrjPzy', artifact={'query': 'LangGraph human-in-the-loop workflow', 'follow_up_questions': None, 'answer': None, 'images': [], 'results': [{'title': 'LangGraph - Persistence & Human-in-the-Loop Workflow - YouTube', 'url': 'https://www.youtube.com/watch?v=9BPCV5TYPmg', 'content': \"In this video, I'll show you how to handle persistence with LangGraph, enabling a unique Human-in-the-Loop workflow. This approach allows a human to grant an\", 'score': 0.9992706, 'raw_content': None}, {'title': 'Implementing Human-in-the-Loop with LangGraph - Medium', 'url': 'https://medium.com/@kbdhunga/implementing-human-in-the-loop-with-langgraph-ccfde023385c', 'content': 'Implementing a Human-in-the-Loop (HIL) framework in LangGraph with the Streamlit app provides a robust mechanism for user engagement and decision-making. By incorporating breakpoints and', 'score': 0.998784, 'raw_content': None}], 'response_time': 2.08}), AIMessage(content='Sure, here are some resources I found on LangGraph and its use in a human-in-the-loop (HIL) workflow:\\n\\n1. A [YouTube video](https://www.youtube.com/watch?v=9BPCV5TYPmg) that explains how to handle persistence with LangGraph, enabling a unique Human-in-the-Loop workflow.\\n\\n2. An article on [Medium](https://medium.com/@kbdhunga/implementing-human-in-the-loop-with-langgraph-ccfde023385c) that discusses the implementation of a Human-in-the-Loop (HIL) framework in LangGraph with the Streamlit app, which provides a robust mechanism for user engagement and decision-making.\\n\\nThese resources should provide a good starting point for understanding how LangGraph can be used in a HIL workflow.', additional_kwargs={'refusal': None}, response_metadata={'token_usage': {'completion_tokens': 164, 'prompt_tokens': 264, 'total_tokens': 428, 'completion_tokens_details': {'accepted_prediction_tokens': 0, 'audio_tokens': 0, 'reasoning_tokens': 0, 'rejected_prediction_tokens': 0}, 'prompt_tokens_details': {'audio_tokens': 0, 'cached_tokens': 0}}, 'model_name': 'gpt-4-0613', 'system_fingerprint': None, 'finish_reason': 'stop', 'logprobs': None}, id='run-66b129f6-fb93-4699-9438-23d5caf9cccf-0', usage_metadata={'input_tokens': 264, 'output_tokens': 164, 'total_tokens': 428, 'input_token_details': {'audio': 0, 'cache_read': 0}, 'output_token_details': {'audio': 0, 'reasoning': 0}}), HumanMessage(content=\"Remember what I'm learning about?\", additional_kwargs={}, response_metadata={}, id='2642fcb7-7553-46dd-bbd0-afc5a0164444'), AIMessage(content='Yes, you are learning about LangGraph and its application in a human-in-the-loop workflow.', additional_kwargs={'refusal': None}, response_metadata={'token_usage': {'completion_tokens': 20, 'prompt_tokens': 442, 'total_tokens': 462, 'completion_tokens_details': {'accepted_prediction_tokens': 0, 'audio_tokens': 0, 'reasoning_tokens': 0, 'rejected_prediction_tokens': 0}, 'prompt_tokens_details': {'audio_tokens': 0, 'cached_tokens': 0}}, 'model_name': 'gpt-4-0613', 'system_fingerprint': None, 'finish_reason': 'stop', 'logprobs': None}, id='run-74e98613-c78b-449f-abd3-69c3ddd19223-0', usage_metadata={'input_tokens': 442, 'output_tokens': 20, 'total_tokens': 462, 'input_token_details': {'audio': 0, 'cache_read': 0}, 'output_token_details': {'audio': 0, 'reasoning': 0}}), HumanMessage(content='Search on the web and tell me about a girl named Sreejony Haque from Bangladesh', additional_kwargs={}, response_metadata={}, id='cb6df75b-33bf-434d-b929-433ad108e1d0'), AIMessage(content='', additional_kwargs={'tool_calls': [{'id': 'call_hN1zSTU95kD9TIQe8aj6aYyi', 'function': {'arguments': '{\\n  \"query\": \"Sreejony Haque from Bangladesh\"\\n}', 'name': 'tavily_search_results_json'}, 'type': 'function'}], 'refusal': None}, response_metadata={'token_usage': {'completion_tokens': 26, 'prompt_tokens': 488, 'total_tokens': 514, 'completion_tokens_details': {'accepted_prediction_tokens': 0, 'audio_tokens': 0, 'reasoning_tokens': 0, 'rejected_prediction_tokens': 0}, 'prompt_tokens_details': {'audio_tokens': 0, 'cached_tokens': 0}}, 'model_name': 'gpt-4-0613', 'system_fingerprint': None, 'finish_reason': 'tool_calls', 'logprobs': None}, id='run-61fb839a-8aaa-43f2-9dea-a97df35cd754-0', tool_calls=[{'name': 'tavily_search_results_json', 'args': {'query': 'Sreejony Haque from Bangladesh'}, 'id': 'call_hN1zSTU95kD9TIQe8aj6aYyi', 'type': 'tool_call'}], usage_metadata={'input_tokens': 488, 'output_tokens': 26, 'total_tokens': 514, 'input_token_details': {'audio': 0, 'cache_read': 0}, 'output_token_details': {'audio': 0, 'reasoning': 0}}), ToolMessage(content='[{\"url\": \"https://bd.linkedin.com/in/sreejony-haque-5b5548265\", \"content\": \"Sreejony Haque Content Planner at binodiini Dhaka, Bangladesh. 6 followers 6 connections\"}, {\"url\": \"https://www.thedailystar.net/entertainment/theatre-arts/news/us-women-artistic-tribute-the-spirit-women-3279616\", \"content\": \"Sreejony Haque painted a girl with her heart locked up in a box in an attempt to translate women\\'s struggles against imposed gender stereotypes and socially forced identities, which cause them to\"}]', name='tavily_search_results_json', id='a418ec6c-da30-40bf-947d-7c1ef91d5b30', tool_call_id='call_hN1zSTU95kD9TIQe8aj6aYyi', artifact={'query': 'Sreejony Haque from Bangladesh', 'follow_up_questions': None, 'answer': None, 'images': [], 'results': [{'title': 'Sreejony Haque - Content Planner - binodiini - LinkedIn', 'url': 'https://bd.linkedin.com/in/sreejony-haque-5b5548265', 'content': 'Sreejony Haque Content Planner at binodiini Dhaka, Bangladesh. 6 followers 6 connections', 'score': 0.9997305, 'raw_content': None}, {'title': \"'US Women': An artistic tribute to the spirit of women\", 'url': 'https://www.thedailystar.net/entertainment/theatre-arts/news/us-women-artistic-tribute-the-spirit-women-3279616', 'content': \"Sreejony Haque painted a girl with her heart locked up in a box in an attempt to translate women's struggles against imposed gender stereotypes and socially forced identities, which cause them to\", 'score': 0.9982248, 'raw_content': None}], 'response_time': 2.65}), AIMessage(content=\"Sreejony Haque is a content planner at binodiini in Dhaka, Bangladesh, according to her [LinkedIn profile](https://bd.linkedin.com/in/sreejony-haque-5b5548265). She appears to have a passion for art and has used it as a medium to translate women's struggles against imposed gender stereotypes and socially forced identities, as mentioned in an article by [The Daily Star](https://www.thedailystar.net/entertainment/theatre-arts/news/us-women-artistic-tribute-the-spirit-women-3279616). In a particular piece, she painted a girl with her heart locked up in a box.\", additional_kwargs={'refusal': None}, response_metadata={'token_usage': {'completion_tokens': 139, 'prompt_tokens': 657, 'total_tokens': 796, 'completion_tokens_details': {'accepted_prediction_tokens': 0, 'audio_tokens': 0, 'reasoning_tokens': 0, 'rejected_prediction_tokens': 0}, 'prompt_tokens_details': {'audio_tokens': 0, 'cached_tokens': 0}}, 'model_name': 'gpt-4-0613', 'system_fingerprint': None, 'finish_reason': 'stop', 'logprobs': None}, id='run-155e49ac-50c4-4051-b72e-b10c9db35224-0', usage_metadata={'input_tokens': 657, 'output_tokens': 139, 'total_tokens': 796, 'input_token_details': {'audio': 0, 'cache_read': 0}, 'output_token_details': {'audio': 0, 'reasoning': 0}})]}\n",
      "==================================\u001b[1m Ai Message \u001b[0m==================================\n",
      "\n",
      "Sreejony Haque is a content planner at binodiini in Dhaka, Bangladesh, according to her [LinkedIn profile](https://bd.linkedin.com/in/sreejony-haque-5b5548265). She appears to have a passion for art and has used it as a medium to translate women's struggles against imposed gender stereotypes and socially forced identities, as mentioned in an article by [The Daily Star](https://www.thedailystar.net/entertainment/theatre-arts/news/us-women-artistic-tribute-the-spirit-women-3279616). In a particular piece, she painted a girl with her heart locked up in a box.\n"
     ]
    }
   ],
   "source": [
    "events = graph.stream(None, config, stream_mode=\"values\")\n",
    "for event in events:\n",
    "    print(event)\n",
    "    if \"messages\" in event:\n",
    "        event[\"messages\"][-1].pretty_print()"
   ]
  },
  {
   "cell_type": "code",
   "execution_count": 84,
   "id": "a99ae7b7-bd89-4b98-83ad-67c9a8d563f1",
   "metadata": {},
   "outputs": [],
   "source": [
    "from typing import Annotated\n",
    "\n",
    "from langchain_openai import ChatOpenAI\n",
    "from langchain_community.tools.tavily_search import TavilySearchResults\n",
    "from typing_extensions import TypedDict\n",
    "\n",
    "from langgraph.checkpoint.memory import MemorySaver\n",
    "from langgraph.graph import StateGraph, START\n",
    "from langgraph.graph.message import add_messages\n",
    "from langgraph.prebuilt import ToolNode, tools_condition\n",
    "\n",
    "\n",
    "class State(TypedDict):\n",
    "    messages: Annotated[list, add_messages]\n",
    "    # This flag is new\n",
    "    ask_human: bool"
   ]
  },
  {
   "cell_type": "code",
   "execution_count": 85,
   "id": "1c772b3f-ba2b-402b-87cb-a157afd831aa",
   "metadata": {},
   "outputs": [],
   "source": [
    "from pydantic import BaseModel\n",
    "\n",
    "\n",
    "class RequestAssistance(BaseModel):\n",
    "    \"\"\"Escalate the conversation to an expert. Use this if you are unable to assist directly or if the user requires support beyond your permissions.\n",
    "\n",
    "    To use this function, relay the user's 'request' so the expert can provide the right guidance.\n",
    "    \"\"\"\n",
    "\n",
    "    request: str"
   ]
  },
  {
   "cell_type": "code",
   "execution_count": 86,
   "id": "df6935e0-be5f-4495-857a-499001ebadd4",
   "metadata": {},
   "outputs": [],
   "source": [
    "tool = TavilySearchResults(max_results=2)\n",
    "tools = [tool]\n",
    "llm = ChatOpenAI(model=\"gpt-4\")\n",
    "# We can bind the llm to a tool definition, a pydantic model, or a json schema\n",
    "llm_with_tools = llm.bind_tools(tools + [RequestAssistance])\n",
    "\n",
    "\n",
    "def chatbot(state: State):\n",
    "    response = llm_with_tools.invoke(state[\"messages\"])\n",
    "    ask_human = False\n",
    "    if (\n",
    "        response.tool_calls\n",
    "        and response.tool_calls[0][\"name\"] == RequestAssistance.__name__\n",
    "    ):\n",
    "        ask_human = True\n",
    "    return {\"messages\": [response], \"ask_human\": ask_human}"
   ]
  },
  {
   "cell_type": "code",
   "execution_count": 87,
   "id": "36ffef80-d7d5-479a-8775-adc17c2b7cd9",
   "metadata": {},
   "outputs": [
    {
     "data": {
      "text/plain": [
       "<langgraph.graph.state.StateGraph at 0x7f72e9aa21a0>"
      ]
     },
     "execution_count": 87,
     "metadata": {},
     "output_type": "execute_result"
    }
   ],
   "source": [
    "graph_builder = StateGraph(State)\n",
    "\n",
    "graph_builder.add_node(\"chatbot\", chatbot)\n",
    "graph_builder.add_node(\"tools\", ToolNode(tools=[tool]))"
   ]
  },
  {
   "cell_type": "code",
   "execution_count": 88,
   "id": "d933d8fb-3365-4f71-b078-1df8aac297d3",
   "metadata": {},
   "outputs": [
    {
     "data": {
      "text/plain": [
       "<langgraph.graph.state.StateGraph at 0x7f72e9aa21a0>"
      ]
     },
     "execution_count": 88,
     "metadata": {},
     "output_type": "execute_result"
    }
   ],
   "source": [
    "from langchain_core.messages import AIMessage, ToolMessage\n",
    "\n",
    "\n",
    "def create_response(response: str, ai_message: AIMessage):\n",
    "    return ToolMessage(\n",
    "        content=response,\n",
    "        tool_call_id=ai_message.tool_calls[0][\"id\"],\n",
    "    )\n",
    "\n",
    "\n",
    "def human_node(state: State):\n",
    "    new_messages = []\n",
    "    if not isinstance(state[\"messages\"][-1], ToolMessage):\n",
    "        # Typically, the user will have updated the state during the interrupt.\n",
    "        # If they choose not to, we will include a placeholder ToolMessage to\n",
    "        # let the LLM continue.\n",
    "        new_messages.append(\n",
    "            create_response(\"No response from human.\", state[\"messages\"][-1])\n",
    "        )\n",
    "    return {\n",
    "        # Append the new messages\n",
    "        \"messages\": new_messages,\n",
    "        # Unset the flag\n",
    "        \"ask_human\": False,\n",
    "    }\n",
    "\n",
    "\n",
    "graph_builder.add_node(\"human\", human_node)"
   ]
  },
  {
   "cell_type": "code",
   "execution_count": 89,
   "id": "50d69cd8-327f-4f95-89fe-6303d0356200",
   "metadata": {},
   "outputs": [
    {
     "data": {
      "text/plain": [
       "<langgraph.graph.state.StateGraph at 0x7f72e9aa21a0>"
      ]
     },
     "execution_count": 89,
     "metadata": {},
     "output_type": "execute_result"
    }
   ],
   "source": [
    "def select_next_node(state: State):\n",
    "    if state[\"ask_human\"]:\n",
    "        return \"human\"\n",
    "    # Otherwise, we can route as before\n",
    "    return tools_condition(state)\n",
    "\n",
    "\n",
    "graph_builder.add_conditional_edges(\n",
    "    \"chatbot\",\n",
    "    select_next_node,\n",
    "    {\"human\": \"human\", \"tools\": \"tools\", END: END},\n",
    ")"
   ]
  },
  {
   "cell_type": "code",
   "execution_count": 90,
   "id": "832dd64d-be12-4ecd-96c4-0012136e294d",
   "metadata": {},
   "outputs": [],
   "source": [
    "# The rest is the same\n",
    "graph_builder.add_edge(\"tools\", \"chatbot\")\n",
    "graph_builder.add_edge(\"human\", \"chatbot\")\n",
    "graph_builder.add_edge(START, \"chatbot\")\n",
    "memory = MemorySaver()\n",
    "graph = graph_builder.compile(\n",
    "    checkpointer=memory,\n",
    "    # We interrupt before 'human' here instead.\n",
    "    interrupt_before=[\"human\"],\n",
    ")"
   ]
  },
  {
   "cell_type": "code",
   "execution_count": 91,
   "id": "ed771bb4-ed4a-4375-a937-90f496feba53",
   "metadata": {},
   "outputs": [
    {
     "data": {
      "image/jpeg": "[encoded data removed]",
      "text/plain": [
       "<IPython.core.display.Image object>"
      ]
     },
     "metadata": {},
     "output_type": "display_data"
    }
   ],
   "source": [
    "from IPython.display import Image, display\n",
    "\n",
    "try:\n",
    "    display(Image(graph.get_graph().draw_mermaid_png()))\n",
    "except Exception:\n",
    "    # This requires some extra dependencies and is optional\n",
    "    pass"
   ]
  },
  {
   "cell_type": "code",
   "execution_count": 92,
   "id": "3f688962-7812-4961-a429-5bd7a0a78492",
   "metadata": {},
   "outputs": [
    {
     "name": "stdout",
     "output_type": "stream",
     "text": [
      "================================\u001b[1m Human Message \u001b[0m=================================\n",
      "\n",
      "I need some expert guidance for building this AI agent. Could you request assistance for me?\n",
      "==================================\u001b[1m Ai Message \u001b[0m==================================\n",
      "Tool Calls:\n",
      "  RequestAssistance (call_8HDgfXO8D9ZOS2psMcstS30G)\n",
      " Call ID: call_8HDgfXO8D9ZOS2psMcstS30G\n",
      "  Args:\n",
      "    request: I need some expert guidance for building this AI agent.\n"
     ]
    }
   ],
   "source": [
    "user_input = \"I need some expert guidance for building this AI agent. Could you request assistance for me?\"\n",
    "config = {\"configurable\": {\"thread_id\": \"1\"}}\n",
    "# The config is the **second positional argument** to stream() or invoke()!\n",
    "events = graph.stream(\n",
    "    {\"messages\": [(\"user\", user_input)]}, config, stream_mode=\"values\"\n",
    ")\n",
    "for event in events:\n",
    "    if \"messages\" in event:\n",
    "        event[\"messages\"][-1].pretty_print()"
   ]
  },
  {
   "cell_type": "code",
   "execution_count": 93,
   "id": "33a34073-c503-47df-823d-ae9f8c496e8a",
   "metadata": {},
   "outputs": [
    {
     "data": {
      "text/plain": [
       "('human',)"
      ]
     },
     "execution_count": 93,
     "metadata": {},
     "output_type": "execute_result"
    }
   ],
   "source": [
    "snapshot = graph.get_state(config)\n",
    "snapshot.next"
   ]
  },
  {
   "cell_type": "code",
   "execution_count": 94,
   "id": "fda650fe-dd2b-4936-ae5b-dd780dc5668b",
   "metadata": {},
   "outputs": [
    {
     "data": {
      "text/plain": [
       "{'configurable': {'thread_id': '1',\n",
       "  'checkpoint_ns': '',\n",
       "  'checkpoint_id': '1efa033d-4b4a-62a8-8002-80312d32161a'}}"
      ]
     },
     "execution_count": 94,
     "metadata": {},
     "output_type": "execute_result"
    }
   ],
   "source": [
    "ai_message = snapshot.values[\"messages\"][-1]\n",
    "human_response = (\n",
    "    \"We, the experts are here to help! We'd recommend you check out LangGraph to build your agent.\"\n",
    "    \" It's much more reliable and extensible than simple autonomous agents.\"\n",
    ")\n",
    "tool_message = create_response(human_response, ai_message)\n",
    "graph.update_state(config, {\"messages\": [tool_message]})"
   ]
  },
  {
   "cell_type": "code",
   "execution_count": 95,
   "id": "fb13672e-e70d-4d68-9dc3-a698f014c2aa",
   "metadata": {},
   "outputs": [
    {
     "data": {
      "text/plain": [
       "[HumanMessage(content='I need some expert guidance for building this AI agent. Could you request assistance for me?', additional_kwargs={}, response_metadata={}, id='4e262e87-bf93-4d53-95e7-75b02acb4b93'),\n",
       " AIMessage(content='', additional_kwargs={'tool_calls': [{'id': 'call_8HDgfXO8D9ZOS2psMcstS30G', 'function': {'arguments': '{\\n  \"request\": \"I need some expert guidance for building this AI agent.\"\\n}', 'name': 'RequestAssistance'}, 'type': 'function'}], 'refusal': None}, response_metadata={'token_usage': {'completion_tokens': 25, 'prompt_tokens': 166, 'total_tokens': 191, 'completion_tokens_details': {'accepted_prediction_tokens': 0, 'audio_tokens': 0, 'reasoning_tokens': 0, 'rejected_prediction_tokens': 0}, 'prompt_tokens_details': {'audio_tokens': 0, 'cached_tokens': 0}}, 'model_name': 'gpt-4-0613', 'system_fingerprint': None, 'finish_reason': 'tool_calls', 'logprobs': None}, id='run-3a473418-2cda-451d-aafb-95d4221218db-0', tool_calls=[{'name': 'RequestAssistance', 'args': {'request': 'I need some expert guidance for building this AI agent.'}, 'id': 'call_8HDgfXO8D9ZOS2psMcstS30G', 'type': 'tool_call'}], usage_metadata={'input_tokens': 166, 'output_tokens': 25, 'total_tokens': 191, 'input_token_details': {'audio': 0, 'cache_read': 0}, 'output_token_details': {'audio': 0, 'reasoning': 0}}),\n",
       " ToolMessage(content=\"We, the experts are here to help! We'd recommend you check out LangGraph to build your agent. It's much more reliable and extensible than simple autonomous agents.\", id='b77f8f70-ef04-4893-8339-2de5629ceeac', tool_call_id='call_8HDgfXO8D9ZOS2psMcstS30G')]"
      ]
     },
     "execution_count": 95,
     "metadata": {},
     "output_type": "execute_result"
    }
   ],
   "source": [
    "graph.get_state(config).values[\"messages\"]"
   ]
  },
  {
   "cell_type": "code",
   "execution_count": 96,
   "id": "12d62069-8421-4795-85e5-ed769910ad9d",
   "metadata": {},
   "outputs": [
    {
     "name": "stdout",
     "output_type": "stream",
     "text": [
      "=================================\u001b[1m Tool Message \u001b[0m=================================\n",
      "\n",
      "We, the experts are here to help! We'd recommend you check out LangGraph to build your agent. It's much more reliable and extensible than simple autonomous agents.\n",
      "=================================\u001b[1m Tool Message \u001b[0m=================================\n",
      "\n",
      "We, the experts are here to help! We'd recommend you check out LangGraph to build your agent. It's much more reliable and extensible than simple autonomous agents.\n",
      "==================================\u001b[1m Ai Message \u001b[0m==================================\n",
      "\n",
      "Our experts recommend using LangGraph to build your AI agent. It's known for its reliability and extensibility, making it a strong choice for your project. If you have more specific questions or need further assistance, feel free to ask.\n"
     ]
    }
   ],
   "source": [
    "events = graph.stream(None, config, stream_mode=\"values\")\n",
    "for event in events:\n",
    "    if \"messages\" in event:\n",
    "        event[\"messages\"][-1].pretty_print()"
   ]
  },
  {
   "cell_type": "code",
   "execution_count": null,
   "id": "1c53f596-e149-469c-874a-4f84501f3669",
   "metadata": {},
   "outputs": [],
   "source": []
  }
 ],
 "metadata": {
  "kernelspec": {
   "display_name": "Python 3.8 - AzureML",
   "language": "python",
   "name": "python38-azureml"
  },
  "language_info": {
   "codemirror_mode": {
    "name": "ipython",
    "version": 3
   },
   "file_extension": ".py",
   "mimetype": "text/x-python",
   "name": "python",
   "nbconvert_exporter": "python",
   "pygments_lexer": "ipython3",
   "version": "3.10.11"
  }
 },
 "nbformat": 4,
 "nbformat_minor": 5
}
